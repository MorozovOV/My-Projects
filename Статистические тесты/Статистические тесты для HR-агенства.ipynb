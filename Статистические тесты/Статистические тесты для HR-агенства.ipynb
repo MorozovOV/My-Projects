{
 "cells": [
  {
   "cell_type": "markdown",
   "metadata": {},
   "source": [
    "# <center> Проект. Статистические тесты для HR-агенства"
   ]
  },
  {
   "cell_type": "markdown",
   "metadata": {},
   "source": [
    "<center> <img src = 'https://avatars.mds.yandex.net/i?id=ac96a2dd616b6103e1e2baaa77c0b477b414b166-5177089-images-thumbs&n=13'>"
   ]
  },
  {
   "cell_type": "markdown",
   "metadata": {},
   "source": [
    "## Постановка задачи\n",
    "\n",
    "HR-агентство изучает тренды на рынке труда в IT. Компания хочет провести исследование на основе данных о зарплатах в сфере Data Science за 2020–2022 годы и получить некоторые выводы.\n",
    "\n",
    "В ходе анализа необходимо:\n",
    "\n",
    "1. Выяснить, какие факторы влияют на зарплату специалиста Data Scientist.\n",
    "2. Ответить на ключевые вопросы HR-агентства:\n",
    "   * а. Наблюдается ли ежегодный рост зарплат у специалистов Data Scientist?\n",
    "   * б. Как соотносятся зарплаты Data Scientist и Data Engineer в 2022 году?\n",
    "   * в. Как соотносятся зарплаты специалистов Data Scientist в компаниях различных размеров?\n",
    "   * г. Есть ли связь между наличием должностей Data Scientist и Data Engineer и размером компании?\n",
    "\n",
    "Если в данных найдутся интересные закономерности, необходимо их отметить.\n",
    "\n",
    "На каждый вопрос необходимо ответить с уровнем значимости $\\alpha=0.05$."
   ]
  },
  {
   "cell_type": "markdown",
   "metadata": {},
   "source": [
    "Данные были получены. Они содержат следующую информацию:\n",
    "\n",
    "work_year - Год, в котором была выплачена зарплата.\n",
    "\n",
    "experience_level - Опыт работы на этой должности в течение года со следующими возможными значениями:\n",
    "   * EN — Entry-level/Junior;\n",
    "   * MI — Mid-level/Intermediate;\n",
    "   * SE — Senior-level/Expert;\n",
    "   * EX — Executive-level/Director.\n",
    "\n",
    "employment_type\t - Тип трудоустройства для этой роли:\n",
    "   * PT — неполный рабочий день;\n",
    "   * FT — полный рабочий день;\n",
    "   * CT — контракт;\n",
    "   * FL — фриланс.\n",
    "\n",
    "job_title - Роль, в которой соискатель работал в течение года.\n",
    "\n",
    "salary - Общая выплаченная валовая сумма заработной платы.\n",
    "\n",
    "salary_currency - Валюта выплачиваемой заработной платы в виде кода валюты ISO 4217.\n",
    "\n",
    "salary_in_usd - Зарплата в долларах США (валютный курс, делённый на среднее значение курса доллара США за соответствующий год через fxdata.foorilla.com).\n",
    "\n",
    "employee_residence - Основная страна проживания сотрудника в течение рабочего года в виде кода страны ISO 3166.\n",
    "\n",
    "remote_ratio - Общий объём работы, выполняемой удалённо. Возможные значения:\n",
    "   * 0 — удалённой работы нет (менее 20 %);\n",
    "   * 50 — частично удалённая работа;\n",
    "   * 100 — полностью удалённая работа (более 80 %).\n",
    "\n",
    "company_location - Страна главного офиса работодателя или филиала по контракту в виде кода страны ISO 3166.\n",
    "\n",
    "company_size - Среднее количество людей, работавших в компании в течение года:\n",
    "   * S — менее 50 сотрудников (небольшая компания);\n",
    "   * M — от 50 до 250 сотрудников (средняя компания);\n",
    "   * L — более 250 сотрудников (крупная компания)."
   ]
  },
  {
   "cell_type": "markdown",
   "metadata": {},
   "source": [
    "## Загрузка данных"
   ]
  },
  {
   "cell_type": "code",
   "execution_count": 54,
   "metadata": {},
   "outputs": [],
   "source": [
    "# загружаем необходимые библиотеки\n",
    "import pandas as pd\n",
    "import numpy as np\n",
    "\n",
    "from scipy import stats\n",
    "import statsmodels.api as sm\n",
    "from statsmodels import stats as sms\n",
    "\n",
    "import matplotlib.pyplot as plt\n",
    "import seaborn as sns"
   ]
  },
  {
   "cell_type": "code",
   "execution_count": 55,
   "metadata": {},
   "outputs": [
    {
     "data": {
      "text/html": [
       "<div>\n",
       "<style scoped>\n",
       "    .dataframe tbody tr th:only-of-type {\n",
       "        vertical-align: middle;\n",
       "    }\n",
       "\n",
       "    .dataframe tbody tr th {\n",
       "        vertical-align: top;\n",
       "    }\n",
       "\n",
       "    .dataframe thead th {\n",
       "        text-align: right;\n",
       "    }\n",
       "</style>\n",
       "<table border=\"1\" class=\"dataframe\">\n",
       "  <thead>\n",
       "    <tr style=\"text-align: right;\">\n",
       "      <th></th>\n",
       "      <th>Unnamed: 0</th>\n",
       "      <th>work_year</th>\n",
       "      <th>experience_level</th>\n",
       "      <th>employment_type</th>\n",
       "      <th>job_title</th>\n",
       "      <th>salary</th>\n",
       "      <th>salary_currency</th>\n",
       "      <th>salary_in_usd</th>\n",
       "      <th>employee_residence</th>\n",
       "      <th>remote_ratio</th>\n",
       "      <th>company_location</th>\n",
       "      <th>company_size</th>\n",
       "    </tr>\n",
       "  </thead>\n",
       "  <tbody>\n",
       "    <tr>\n",
       "      <th>0</th>\n",
       "      <td>0</td>\n",
       "      <td>2020</td>\n",
       "      <td>MI</td>\n",
       "      <td>FT</td>\n",
       "      <td>Data Scientist</td>\n",
       "      <td>70000</td>\n",
       "      <td>EUR</td>\n",
       "      <td>79833</td>\n",
       "      <td>DE</td>\n",
       "      <td>0</td>\n",
       "      <td>DE</td>\n",
       "      <td>L</td>\n",
       "    </tr>\n",
       "    <tr>\n",
       "      <th>1</th>\n",
       "      <td>1</td>\n",
       "      <td>2020</td>\n",
       "      <td>SE</td>\n",
       "      <td>FT</td>\n",
       "      <td>Machine Learning Scientist</td>\n",
       "      <td>260000</td>\n",
       "      <td>USD</td>\n",
       "      <td>260000</td>\n",
       "      <td>JP</td>\n",
       "      <td>0</td>\n",
       "      <td>JP</td>\n",
       "      <td>S</td>\n",
       "    </tr>\n",
       "    <tr>\n",
       "      <th>2</th>\n",
       "      <td>2</td>\n",
       "      <td>2020</td>\n",
       "      <td>SE</td>\n",
       "      <td>FT</td>\n",
       "      <td>Big Data Engineer</td>\n",
       "      <td>85000</td>\n",
       "      <td>GBP</td>\n",
       "      <td>109024</td>\n",
       "      <td>GB</td>\n",
       "      <td>50</td>\n",
       "      <td>GB</td>\n",
       "      <td>M</td>\n",
       "    </tr>\n",
       "    <tr>\n",
       "      <th>3</th>\n",
       "      <td>3</td>\n",
       "      <td>2020</td>\n",
       "      <td>MI</td>\n",
       "      <td>FT</td>\n",
       "      <td>Product Data Analyst</td>\n",
       "      <td>20000</td>\n",
       "      <td>USD</td>\n",
       "      <td>20000</td>\n",
       "      <td>HN</td>\n",
       "      <td>0</td>\n",
       "      <td>HN</td>\n",
       "      <td>S</td>\n",
       "    </tr>\n",
       "    <tr>\n",
       "      <th>4</th>\n",
       "      <td>4</td>\n",
       "      <td>2020</td>\n",
       "      <td>SE</td>\n",
       "      <td>FT</td>\n",
       "      <td>Machine Learning Engineer</td>\n",
       "      <td>150000</td>\n",
       "      <td>USD</td>\n",
       "      <td>150000</td>\n",
       "      <td>US</td>\n",
       "      <td>50</td>\n",
       "      <td>US</td>\n",
       "      <td>L</td>\n",
       "    </tr>\n",
       "    <tr>\n",
       "      <th>...</th>\n",
       "      <td>...</td>\n",
       "      <td>...</td>\n",
       "      <td>...</td>\n",
       "      <td>...</td>\n",
       "      <td>...</td>\n",
       "      <td>...</td>\n",
       "      <td>...</td>\n",
       "      <td>...</td>\n",
       "      <td>...</td>\n",
       "      <td>...</td>\n",
       "      <td>...</td>\n",
       "      <td>...</td>\n",
       "    </tr>\n",
       "    <tr>\n",
       "      <th>602</th>\n",
       "      <td>602</td>\n",
       "      <td>2022</td>\n",
       "      <td>SE</td>\n",
       "      <td>FT</td>\n",
       "      <td>Data Engineer</td>\n",
       "      <td>154000</td>\n",
       "      <td>USD</td>\n",
       "      <td>154000</td>\n",
       "      <td>US</td>\n",
       "      <td>100</td>\n",
       "      <td>US</td>\n",
       "      <td>M</td>\n",
       "    </tr>\n",
       "    <tr>\n",
       "      <th>603</th>\n",
       "      <td>603</td>\n",
       "      <td>2022</td>\n",
       "      <td>SE</td>\n",
       "      <td>FT</td>\n",
       "      <td>Data Engineer</td>\n",
       "      <td>126000</td>\n",
       "      <td>USD</td>\n",
       "      <td>126000</td>\n",
       "      <td>US</td>\n",
       "      <td>100</td>\n",
       "      <td>US</td>\n",
       "      <td>M</td>\n",
       "    </tr>\n",
       "    <tr>\n",
       "      <th>604</th>\n",
       "      <td>604</td>\n",
       "      <td>2022</td>\n",
       "      <td>SE</td>\n",
       "      <td>FT</td>\n",
       "      <td>Data Analyst</td>\n",
       "      <td>129000</td>\n",
       "      <td>USD</td>\n",
       "      <td>129000</td>\n",
       "      <td>US</td>\n",
       "      <td>0</td>\n",
       "      <td>US</td>\n",
       "      <td>M</td>\n",
       "    </tr>\n",
       "    <tr>\n",
       "      <th>605</th>\n",
       "      <td>605</td>\n",
       "      <td>2022</td>\n",
       "      <td>SE</td>\n",
       "      <td>FT</td>\n",
       "      <td>Data Analyst</td>\n",
       "      <td>150000</td>\n",
       "      <td>USD</td>\n",
       "      <td>150000</td>\n",
       "      <td>US</td>\n",
       "      <td>100</td>\n",
       "      <td>US</td>\n",
       "      <td>M</td>\n",
       "    </tr>\n",
       "    <tr>\n",
       "      <th>606</th>\n",
       "      <td>606</td>\n",
       "      <td>2022</td>\n",
       "      <td>MI</td>\n",
       "      <td>FT</td>\n",
       "      <td>AI Scientist</td>\n",
       "      <td>200000</td>\n",
       "      <td>USD</td>\n",
       "      <td>200000</td>\n",
       "      <td>IN</td>\n",
       "      <td>100</td>\n",
       "      <td>US</td>\n",
       "      <td>L</td>\n",
       "    </tr>\n",
       "  </tbody>\n",
       "</table>\n",
       "<p>607 rows × 12 columns</p>\n",
       "</div>"
      ],
      "text/plain": [
       "     Unnamed: 0  work_year experience_level employment_type  \\\n",
       "0             0       2020               MI              FT   \n",
       "1             1       2020               SE              FT   \n",
       "2             2       2020               SE              FT   \n",
       "3             3       2020               MI              FT   \n",
       "4             4       2020               SE              FT   \n",
       "..          ...        ...              ...             ...   \n",
       "602         602       2022               SE              FT   \n",
       "603         603       2022               SE              FT   \n",
       "604         604       2022               SE              FT   \n",
       "605         605       2022               SE              FT   \n",
       "606         606       2022               MI              FT   \n",
       "\n",
       "                      job_title  salary salary_currency  salary_in_usd  \\\n",
       "0                Data Scientist   70000             EUR          79833   \n",
       "1    Machine Learning Scientist  260000             USD         260000   \n",
       "2             Big Data Engineer   85000             GBP         109024   \n",
       "3          Product Data Analyst   20000             USD          20000   \n",
       "4     Machine Learning Engineer  150000             USD         150000   \n",
       "..                          ...     ...             ...            ...   \n",
       "602               Data Engineer  154000             USD         154000   \n",
       "603               Data Engineer  126000             USD         126000   \n",
       "604                Data Analyst  129000             USD         129000   \n",
       "605                Data Analyst  150000             USD         150000   \n",
       "606                AI Scientist  200000             USD         200000   \n",
       "\n",
       "    employee_residence  remote_ratio company_location company_size  \n",
       "0                   DE             0               DE            L  \n",
       "1                   JP             0               JP            S  \n",
       "2                   GB            50               GB            M  \n",
       "3                   HN             0               HN            S  \n",
       "4                   US            50               US            L  \n",
       "..                 ...           ...              ...          ...  \n",
       "602                 US           100               US            M  \n",
       "603                 US           100               US            M  \n",
       "604                 US             0               US            M  \n",
       "605                 US           100               US            M  \n",
       "606                 IN           100               US            L  \n",
       "\n",
       "[607 rows x 12 columns]"
      ]
     },
     "execution_count": 55,
     "metadata": {},
     "output_type": "execute_result"
    }
   ],
   "source": [
    "ds_salaries = pd.read_csv('F:\\IDE\\SkillFactory\\EDA-4_Статистические тесты\\ds_salaries.csv')\n",
    "ds_salaries"
   ]
  },
  {
   "cell_type": "markdown",
   "metadata": {},
   "source": [
    "## Типы признаков"
   ]
  },
  {
   "cell_type": "markdown",
   "metadata": {},
   "source": [
    "work_year - категориальный порядковый,\n",
    "\n",
    "experience_level - категориальный порядковый,\n",
    "\n",
    "employment_type - категориальный номинальный,\n",
    "\n",
    "job_title - категориальный номинальный,\n",
    "\n",
    "salary - количественный,\n",
    "\n",
    "salary_currency - категориальный номинальный,\n",
    "\n",
    "salary_in_usd - количественный,\n",
    "\n",
    "employee_residence - категориальный номинальный,\n",
    "\n",
    "remote_ratio - категориальный порядковый,\n",
    "\n",
    "company_location - категориальный номинальный,\n",
    "\n",
    "company_size - категориальный порядковый."
   ]
  },
  {
   "cell_type": "markdown",
   "metadata": {},
   "source": [
    "## Описательный анализ данных"
   ]
  },
  {
   "cell_type": "code",
   "execution_count": 56,
   "metadata": {},
   "outputs": [
    {
     "name": "stdout",
     "output_type": "stream",
     "text": [
      "<class 'pandas.core.frame.DataFrame'>\n",
      "RangeIndex: 607 entries, 0 to 606\n",
      "Data columns (total 12 columns):\n",
      " #   Column              Non-Null Count  Dtype \n",
      "---  ------              --------------  ----- \n",
      " 0   Unnamed: 0          607 non-null    int64 \n",
      " 1   work_year           607 non-null    int64 \n",
      " 2   experience_level    607 non-null    object\n",
      " 3   employment_type     607 non-null    object\n",
      " 4   job_title           607 non-null    object\n",
      " 5   salary              607 non-null    int64 \n",
      " 6   salary_currency     607 non-null    object\n",
      " 7   salary_in_usd       607 non-null    int64 \n",
      " 8   employee_residence  607 non-null    object\n",
      " 9   remote_ratio        607 non-null    int64 \n",
      " 10  company_location    607 non-null    object\n",
      " 11  company_size        607 non-null    object\n",
      "dtypes: int64(5), object(7)\n",
      "memory usage: 57.0+ KB\n"
     ]
    }
   ],
   "source": [
    "# Проверим данные на наличие пропусков:\n",
    "ds_salaries.info()"
   ]
  },
  {
   "cell_type": "code",
   "execution_count": 57,
   "metadata": {},
   "outputs": [
    {
     "name": "stdout",
     "output_type": "stream",
     "text": [
      "Количество дубликатов: 0\n"
     ]
    }
   ],
   "source": [
    "# Проверим данные на наличие дубликатов:\n",
    "print(f'Количество дубликатов: {ds_salaries[ds_salaries.duplicated()].shape[0]}')"
   ]
  },
  {
   "cell_type": "markdown",
   "metadata": {},
   "source": [
    "В данных нет ни пропусков, ни дубликатов."
   ]
  },
  {
   "cell_type": "markdown",
   "metadata": {},
   "source": [
    "### Распределение зарплаты"
   ]
  },
  {
   "cell_type": "markdown",
   "metadata": {},
   "source": [
    "Поскольку главный предмет нашего анализа - это зарплата, посмотрим на её распределение. Однако сразу бросается в глаза, что признак \"salary\" мы не можем анализировать, потому что он выражен в разных валютах. Для анализа важен лишь признак \"salary_in_usd\", так как в нём валюта универсальна. Значения именно этого признака мы и будем анализировать. Таким образом, признаки \"salary\" и \"salary_currency\" не представляют никакой значимости. Их можно удалить из исходных данных. Также удалим столбец Unnamed: 0. Он не несёт никакой смысловой нагрузки и просто дублирует id."
   ]
  },
  {
   "cell_type": "code",
   "execution_count": 58,
   "metadata": {},
   "outputs": [
    {
     "data": {
      "text/html": [
       "<div>\n",
       "<style scoped>\n",
       "    .dataframe tbody tr th:only-of-type {\n",
       "        vertical-align: middle;\n",
       "    }\n",
       "\n",
       "    .dataframe tbody tr th {\n",
       "        vertical-align: top;\n",
       "    }\n",
       "\n",
       "    .dataframe thead th {\n",
       "        text-align: right;\n",
       "    }\n",
       "</style>\n",
       "<table border=\"1\" class=\"dataframe\">\n",
       "  <thead>\n",
       "    <tr style=\"text-align: right;\">\n",
       "      <th></th>\n",
       "      <th>work_year</th>\n",
       "      <th>experience_level</th>\n",
       "      <th>employment_type</th>\n",
       "      <th>job_title</th>\n",
       "      <th>salary_in_usd</th>\n",
       "      <th>employee_residence</th>\n",
       "      <th>remote_ratio</th>\n",
       "      <th>company_location</th>\n",
       "      <th>company_size</th>\n",
       "    </tr>\n",
       "  </thead>\n",
       "  <tbody>\n",
       "    <tr>\n",
       "      <th>0</th>\n",
       "      <td>2020</td>\n",
       "      <td>MI</td>\n",
       "      <td>FT</td>\n",
       "      <td>Data Scientist</td>\n",
       "      <td>79833</td>\n",
       "      <td>DE</td>\n",
       "      <td>0</td>\n",
       "      <td>DE</td>\n",
       "      <td>L</td>\n",
       "    </tr>\n",
       "    <tr>\n",
       "      <th>1</th>\n",
       "      <td>2020</td>\n",
       "      <td>SE</td>\n",
       "      <td>FT</td>\n",
       "      <td>Machine Learning Scientist</td>\n",
       "      <td>260000</td>\n",
       "      <td>JP</td>\n",
       "      <td>0</td>\n",
       "      <td>JP</td>\n",
       "      <td>S</td>\n",
       "    </tr>\n",
       "    <tr>\n",
       "      <th>2</th>\n",
       "      <td>2020</td>\n",
       "      <td>SE</td>\n",
       "      <td>FT</td>\n",
       "      <td>Big Data Engineer</td>\n",
       "      <td>109024</td>\n",
       "      <td>GB</td>\n",
       "      <td>50</td>\n",
       "      <td>GB</td>\n",
       "      <td>M</td>\n",
       "    </tr>\n",
       "    <tr>\n",
       "      <th>3</th>\n",
       "      <td>2020</td>\n",
       "      <td>MI</td>\n",
       "      <td>FT</td>\n",
       "      <td>Product Data Analyst</td>\n",
       "      <td>20000</td>\n",
       "      <td>HN</td>\n",
       "      <td>0</td>\n",
       "      <td>HN</td>\n",
       "      <td>S</td>\n",
       "    </tr>\n",
       "    <tr>\n",
       "      <th>4</th>\n",
       "      <td>2020</td>\n",
       "      <td>SE</td>\n",
       "      <td>FT</td>\n",
       "      <td>Machine Learning Engineer</td>\n",
       "      <td>150000</td>\n",
       "      <td>US</td>\n",
       "      <td>50</td>\n",
       "      <td>US</td>\n",
       "      <td>L</td>\n",
       "    </tr>\n",
       "    <tr>\n",
       "      <th>...</th>\n",
       "      <td>...</td>\n",
       "      <td>...</td>\n",
       "      <td>...</td>\n",
       "      <td>...</td>\n",
       "      <td>...</td>\n",
       "      <td>...</td>\n",
       "      <td>...</td>\n",
       "      <td>...</td>\n",
       "      <td>...</td>\n",
       "    </tr>\n",
       "    <tr>\n",
       "      <th>602</th>\n",
       "      <td>2022</td>\n",
       "      <td>SE</td>\n",
       "      <td>FT</td>\n",
       "      <td>Data Engineer</td>\n",
       "      <td>154000</td>\n",
       "      <td>US</td>\n",
       "      <td>100</td>\n",
       "      <td>US</td>\n",
       "      <td>M</td>\n",
       "    </tr>\n",
       "    <tr>\n",
       "      <th>603</th>\n",
       "      <td>2022</td>\n",
       "      <td>SE</td>\n",
       "      <td>FT</td>\n",
       "      <td>Data Engineer</td>\n",
       "      <td>126000</td>\n",
       "      <td>US</td>\n",
       "      <td>100</td>\n",
       "      <td>US</td>\n",
       "      <td>M</td>\n",
       "    </tr>\n",
       "    <tr>\n",
       "      <th>604</th>\n",
       "      <td>2022</td>\n",
       "      <td>SE</td>\n",
       "      <td>FT</td>\n",
       "      <td>Data Analyst</td>\n",
       "      <td>129000</td>\n",
       "      <td>US</td>\n",
       "      <td>0</td>\n",
       "      <td>US</td>\n",
       "      <td>M</td>\n",
       "    </tr>\n",
       "    <tr>\n",
       "      <th>605</th>\n",
       "      <td>2022</td>\n",
       "      <td>SE</td>\n",
       "      <td>FT</td>\n",
       "      <td>Data Analyst</td>\n",
       "      <td>150000</td>\n",
       "      <td>US</td>\n",
       "      <td>100</td>\n",
       "      <td>US</td>\n",
       "      <td>M</td>\n",
       "    </tr>\n",
       "    <tr>\n",
       "      <th>606</th>\n",
       "      <td>2022</td>\n",
       "      <td>MI</td>\n",
       "      <td>FT</td>\n",
       "      <td>AI Scientist</td>\n",
       "      <td>200000</td>\n",
       "      <td>IN</td>\n",
       "      <td>100</td>\n",
       "      <td>US</td>\n",
       "      <td>L</td>\n",
       "    </tr>\n",
       "  </tbody>\n",
       "</table>\n",
       "<p>607 rows × 9 columns</p>\n",
       "</div>"
      ],
      "text/plain": [
       "     work_year experience_level employment_type                   job_title  \\\n",
       "0         2020               MI              FT              Data Scientist   \n",
       "1         2020               SE              FT  Machine Learning Scientist   \n",
       "2         2020               SE              FT           Big Data Engineer   \n",
       "3         2020               MI              FT        Product Data Analyst   \n",
       "4         2020               SE              FT   Machine Learning Engineer   \n",
       "..         ...              ...             ...                         ...   \n",
       "602       2022               SE              FT               Data Engineer   \n",
       "603       2022               SE              FT               Data Engineer   \n",
       "604       2022               SE              FT                Data Analyst   \n",
       "605       2022               SE              FT                Data Analyst   \n",
       "606       2022               MI              FT                AI Scientist   \n",
       "\n",
       "     salary_in_usd employee_residence  remote_ratio company_location  \\\n",
       "0            79833                 DE             0               DE   \n",
       "1           260000                 JP             0               JP   \n",
       "2           109024                 GB            50               GB   \n",
       "3            20000                 HN             0               HN   \n",
       "4           150000                 US            50               US   \n",
       "..             ...                ...           ...              ...   \n",
       "602         154000                 US           100               US   \n",
       "603         126000                 US           100               US   \n",
       "604         129000                 US             0               US   \n",
       "605         150000                 US           100               US   \n",
       "606         200000                 IN           100               US   \n",
       "\n",
       "    company_size  \n",
       "0              L  \n",
       "1              S  \n",
       "2              M  \n",
       "3              S  \n",
       "4              L  \n",
       "..           ...  \n",
       "602            M  \n",
       "603            M  \n",
       "604            M  \n",
       "605            M  \n",
       "606            L  \n",
       "\n",
       "[607 rows x 9 columns]"
      ]
     },
     "execution_count": 58,
     "metadata": {},
     "output_type": "execute_result"
    }
   ],
   "source": [
    "# Удаляем столбцы 'salary' и 'salary_currency':\n",
    "ds_salaries = ds_salaries.drop(['salary', 'salary_currency', 'Unnamed: 0'], axis=1)\n",
    "ds_salaries"
   ]
  },
  {
   "cell_type": "markdown",
   "metadata": {},
   "source": [
    "Теперь можно анализировать распределение заработной платы."
   ]
  },
  {
   "cell_type": "code",
   "execution_count": 59,
   "metadata": {},
   "outputs": [
    {
     "data": {
      "image/png": "[encoded data removed]",
      "text/plain": [
       "<Figure size 1500x500 with 2 Axes>"
      ]
     },
     "metadata": {},
     "output_type": "display_data"
    }
   ],
   "source": [
    "salaries_DS = ds_salaries.loc[ds_salaries['job_title'] == 'Data Scientist']\n",
    "\n",
    "# Готовим плоскости для двух графиков с распределением зарплаты дата-сайентистов:\n",
    "fig, axes = plt.subplots(1, 2, figsize=(15, 5))\n",
    "\n",
    "# На первой плоскости - гистограмма:\n",
    "sns.histplot(salaries_DS['salary_in_usd'], kde=True, ax=axes[0])\n",
    "axes[0].set(xlabel='Размер зарплаты, дол.', ylabel='Кол-во человек')\n",
    "axes[0].set_title('Распределение заработной платы DS')\n",
    "# Добавим линию, отображающую среднюю:\n",
    "axes[0].axvline(salaries_DS['salary_in_usd'].mean(), color='red', linestyle='--', linewidth=0.8)\n",
    "\n",
    "# На второй плоскости - коробчатая диаграмма с линией, обозначающей медиану:\n",
    "sns.boxplot(salaries_DS['salary_in_usd'], ax=axes[1], orient='h', medianprops={\"color\": \"red\", \"linestyle\": '--'})\n",
    "axes[1].set(ylabel='Размер зарплаты, дол.')\n",
    "axes[1].set_title('Распределение заработной платы DS')\n",
    "\n",
    "plt.show()"
   ]
  },
  {
   "cell_type": "markdown",
   "metadata": {},
   "source": [
    "Внешне график распределения заработной платы указывает на ненормальное распределение данных. C другой стороны, средняя и медиана (красные пунктирные линии на столбчатой и коробчатой диаграммах соответственно) практически совпадают. Гипотеза о ненормальности распределения требует строгого математического подтверждения."
   ]
  },
  {
   "cell_type": "markdown",
   "metadata": {},
   "source": [
    "Выясним, наблюдается ли ежегодный рост зарплаты у дата-сайентистов. Спрогнозируем ответ на этот вопрос при помощи графиков. Построим два графика: изменение средней зарплаты и - поскольку распредление зарплаты похоже на ненормальное - изменение медианной зарплаты."
   ]
  },
  {
   "cell_type": "code",
   "execution_count": 60,
   "metadata": {},
   "outputs": [
    {
     "data": {
      "image/png": "[encoded data removed]",
      "text/plain": [
       "<Figure size 1500x500 with 2 Axes>"
      ]
     },
     "metadata": {},
     "output_type": "display_data"
    }
   ],
   "source": [
    "# Группируем данные по году. В качестве значений возьмём средние:\n",
    "mean_salary = salaries_DS.groupby(\n",
    "    by = ('work_year'),\n",
    "    as_index = False\n",
    "    )[['salary_in_usd']].mean()\n",
    "\n",
    "# То же самое для медианной зарплаты:\n",
    "median_salary = salaries_DS.groupby(\n",
    "    by = ('work_year'),\n",
    "    as_index = False\n",
    "    )[['salary_in_usd']].median()\n",
    "\n",
    "# Построим столбчатые диаграммы для средних и для медиан:\n",
    "fig, axes = plt.subplots(1, 2, figsize=(15, 5))\n",
    "\n",
    "sns.barplot(mean_salary, x='work_year', y='salary_in_usd', ax = axes[0])\n",
    "axes[0].set(xlabel='Год', ylabel='Средняя зарплата, дол.')\n",
    "axes[0].set_title('Ежегодное изменение средней зарплаты')\n",
    "\n",
    "sns.barplot(median_salary, x='work_year', y='salary_in_usd', ax = axes[1])\n",
    "axes[1].set(xlabel='Год', ylabel='Средняя зарплата, дол.')\n",
    "axes[1].set_title('Ежегодное изменение медианной зарплаты')\n",
    "\n",
    "plt.show()"
   ]
  },
  {
   "cell_type": "markdown",
   "metadata": {},
   "source": [
    "Оба графика показывают, что в 2022 г. зарплата дата-сайентистов выросла занчительно. Однако график изменения средней зарплаты не позволяет сделать однозначного вывода о её росте каждый год. Исходя из предположения о ненормальном распределении данных по зарплате, я склонен доверять второму графику и сделаю предположение, что зарплата (по крайней мере, медианная) у дата-сайентистов ежегодно растёт."
   ]
  },
  {
   "cell_type": "markdown",
   "metadata": {},
   "source": [
    "Выясним, как в 2022 г. соотносились зарплаты сотрудников, занимавших должности Data Scientist и Data Engineer. Визуализируем два данных показателя, используя и среднюю, и медианную зарплату."
   ]
  },
  {
   "cell_type": "code",
   "execution_count": 61,
   "metadata": {},
   "outputs": [
    {
     "data": {
      "image/png": "[encoded data removed]",
      "text/plain": [
       "<Figure size 1500x500 with 2 Axes>"
      ]
     },
     "metadata": {},
     "output_type": "display_data"
    }
   ],
   "source": [
    "# Вначале сделаем выборку только по 2022 г.:\n",
    "mask_2022 = ds_salaries.loc[ds_salaries['work_year'] == 2022]\n",
    "# А теперь по нужным нам должностям:\n",
    "mask_2022_DS_DE = mask_2022.loc[(ds_salaries['job_title'] == 'Data Scientist') | (ds_salaries['job_title'] == 'Data Engineer')]\n",
    "\n",
    "# Сгруппируем данные по должностям, отобразив вначале среднюю, затем медианную зарплату:\n",
    "mean_salary_DS_DE = mask_2022_DS_DE.groupby(\n",
    "    by = ('job_title'),\n",
    "    as_index = False\n",
    "    )[['salary_in_usd']].mean()\n",
    "\n",
    "median_salary_DS_DE = mask_2022_DS_DE.groupby(\n",
    "    by = ('job_title'),\n",
    "    as_index = False\n",
    "    )[['salary_in_usd']].median()\n",
    "\n",
    "# Построим столбчатые диаграммы для средних и для медиан:\n",
    "fig, axes = plt.subplots(1, 2, figsize=(15, 5))\n",
    "\n",
    "sns.barplot(mean_salary_DS_DE, x='job_title', y='salary_in_usd', ax = axes[0])\n",
    "axes[0].set(xlabel='Должность', ylabel='Средняя зарплата, дол.')\n",
    "axes[0].set_title('Сравнение средней зарплаты DS и DE в 2022 г.')\n",
    "\n",
    "sns.barplot(median_salary_DS_DE, x='job_title', y='salary_in_usd', ax = axes[1])\n",
    "axes[1].set(xlabel='Должность', ylabel='Медианная зарплата, дол.')\n",
    "axes[1].set_title('Сравнение медианной зарплаты DS и DE в 2022 г.')\n",
    "\n",
    "plt.show()"
   ]
  },
  {
   "cell_type": "markdown",
   "metadata": {},
   "source": [
    "Судя по графикам, зарплата сотрудников на должности \"Дата-сайентист\" выше, чем сотрудников на должности \"Инженер данных\"."
   ]
  },
  {
   "cell_type": "markdown",
   "metadata": {},
   "source": [
    "Выясним, как соотносятся зарплаты в компаниях разных размеров. Выдвенем гипотезу по этому поводу на основе графиков."
   ]
  },
  {
   "cell_type": "code",
   "execution_count": 62,
   "metadata": {},
   "outputs": [
    {
     "data": {
      "image/png": "[encoded data removed]",
      "text/plain": [
       "<Figure size 1500x500 with 2 Axes>"
      ]
     },
     "metadata": {},
     "output_type": "display_data"
    }
   ],
   "source": [
    "# Отсортируем данные по размерам компаний:\n",
    "mask_S = ds_salaries.loc[ds_salaries['company_size'] == 'S']\n",
    "mask_M = ds_salaries.loc[ds_salaries['company_size'] == 'M']\n",
    "mask_L = ds_salaries.loc[ds_salaries['company_size'] == 'L']\n",
    "\n",
    "# Группируем данные по размерам компаний. В качестве значений возьмём средние:\n",
    "company_mean_salary = ds_salaries.groupby(\n",
    "    by = ('company_size'),\n",
    "    as_index = False\n",
    "    )[['salary_in_usd']].mean()\n",
    "\n",
    "# Проделаем то же самое для медианных зарплат:\n",
    "company_median_salary = ds_salaries.groupby(\n",
    "    by = ('company_size'),\n",
    "    as_index = False\n",
    "    )[['salary_in_usd']].median()\n",
    "\n",
    "# Потроим столбчатые диаграммы для средних и для медиан:\n",
    "fig, axes = plt.subplots(1, 2, figsize=(15, 5))\n",
    "\n",
    "sns.barplot(company_mean_salary, x='company_size', y='salary_in_usd', ax = axes[0])\n",
    "axes[0].set(xlabel='Размер компании', ylabel='Средняя зарплата, дол.')\n",
    "axes[0].set_title('Cредняя зарплата в компаниях разных размеров')\n",
    "\n",
    "sns.barplot(company_median_salary, x='company_size', y='salary_in_usd', ax = axes[1])\n",
    "axes[1].set(xlabel='Размер компании', ylabel='Медианная зарплата, дол.')\n",
    "axes[1].set_title('Медианная зарплата в компаниях разных размеров')\n",
    "\n",
    "plt.show()"
   ]
  },
  {
   "cell_type": "markdown",
   "metadata": {},
   "source": [
    "На графиках видно, что зарплаты в средних и больших компаниях различаются незначительно (медианная зарплата в средних компаниях даже больше, что может говорить о единичных аномально высоких зарплатах в больших компаниях). А вот в маленьких компаниях зарплаты существенно ниже, чем в других."
   ]
  },
  {
   "cell_type": "markdown",
   "metadata": {},
   "source": [
    "Выясним, существует ли связь факта наличия должностей \"Дата-сайентист\" и \"Инженер данных\" от размера компании. Сделаем предположение."
   ]
  },
  {
   "cell_type": "code",
   "execution_count": 63,
   "metadata": {},
   "outputs": [
    {
     "data": {
      "image/png": "[encoded data removed]",
      "text/plain": [
       "<Figure size 2000x500 with 2 Axes>"
      ]
     },
     "metadata": {},
     "output_type": "display_data"
    }
   ],
   "source": [
    "# Отсортируем данные вначале по должности Data Scientist, затем - Data Engineer.\n",
    "# Создадим две временные таблицы по каждой из должностей:\n",
    "mask_DS = ds_salaries.loc[ds_salaries['job_title'] == 'Data Scientist']\n",
    "mask_DE = ds_salaries.loc[ds_salaries['job_title'] == 'Data Engineer']\n",
    "\n",
    "# В каждой из таблиц посчитаем количество разных размеров компаний:\n",
    "mask_DS_companies = mask_DS.groupby(\n",
    "    by = ('company_size'),\n",
    "    as_index = False\n",
    "    )[['company_size']].value_counts()\n",
    "\n",
    "mask_DE_companies = mask_DE.groupby(\n",
    "    by = ('company_size'),\n",
    "    as_index = False\n",
    "    )[['company_size']].value_counts()\n",
    "\n",
    "# По каждой из сгруппированных таблиц построим столбчатую диаграмму:\n",
    "fig, axes = plt.subplots(1, 2, figsize=(20, 5))\n",
    "\n",
    "sns.barplot(mask_DS_companies, x='company_size', y='count', ax=axes[0])\n",
    "axes[0].set(xlabel='Размер компании', ylabel='Кол-во человек с должностью \"Data Scientist\"')\n",
    "axes[0].set_title('Наличие должности \"Data Scientist\" в компаниях различного размера')\n",
    "\n",
    "sns.barplot(mask_DE_companies, x='company_size', y='count', ax=axes[1])\n",
    "axes[1].set(xlabel='Размер компании', ylabel='Кол-во человек с должностью \"Data Engineer\"')\n",
    "axes[1].set_title('Наличие должности \"Data Engineer\" в компаниях различного размера')\n",
    "\n",
    "plt.show()"
   ]
  },
  {
   "cell_type": "markdown",
   "metadata": {},
   "source": [
    "С одной стороны, мы видим, что указанные должности есть в компаниях разного размера. С другой, кодличество человек в должности \"Инженер данных\" в маленьких компаниях пренебрежительно мало. Я бы всё-таки склонился к версии, что связь между наличием нужных нам должностей и размером компании отсутствует."
   ]
  },
  {
   "cell_type": "markdown",
   "metadata": {},
   "source": [
    "Для того чтобы выяснить, какие признаки влияют на зарплату дата-сайентиста, а также для более точного статистического анализа необходимо выполнить кодировку признаков."
   ]
  },
  {
   "cell_type": "markdown",
   "metadata": {},
   "source": [
    "## Кодирование признаков"
   ]
  },
  {
   "cell_type": "markdown",
   "metadata": {},
   "source": [
    "### Кодирование категориальных порядковых признаков"
   ]
  },
  {
   "cell_type": "markdown",
   "metadata": {},
   "source": [
    "Согласно нашему анализу у нас 4 категориальных порядковых признака:\n",
    "\n",
    "* work_year (3 значения),\n",
    "* experience_level (4 значения),\n",
    "* remote_ratio (3 значения),\n",
    "* company_size (3 значения).\n",
    "\n",
    "Определим количесвто записей каждого значения в данном типе признаков."
   ]
  },
  {
   "cell_type": "code",
   "execution_count": 64,
   "metadata": {},
   "outputs": [
    {
     "data": {
      "image/png": "[encoded data removed]",
      "text/plain": [
       "<Figure size 2000x500 with 4 Axes>"
      ]
     },
     "metadata": {},
     "output_type": "display_data"
    }
   ],
   "source": [
    "# Создадим 4 сводные таблицы с группировкой по каждому категориальному порядковому признаку:\n",
    "ds_salaries_year = ds_salaries.groupby(\n",
    "    by = ('work_year'),\n",
    "    as_index = False\n",
    "    )['work_year'].value_counts()\n",
    "\n",
    "ds_salaries_experience = ds_salaries.groupby(\n",
    "    by = ('experience_level'),\n",
    "    as_index = False\n",
    "    )['experience_level'].value_counts()\n",
    "\n",
    "ds_salaries_remote = ds_salaries.groupby(\n",
    "    by = ('remote_ratio'),\n",
    "    as_index = False\n",
    "    )['remote_ratio'].value_counts()\n",
    "\n",
    "ds_salaries_company = ds_salaries.groupby(\n",
    "    by = ('company_size'),\n",
    "    as_index = False\n",
    "    )['company_size'].value_counts()\n",
    "\n",
    "# Визуализируем каждую из полученных сводных таблиц припомощи столбчатой диаграммы:\n",
    "fig, axes = plt.subplots(1, 4, figsize=(20, 5))\n",
    "\n",
    "sns.barplot(ds_salaries_year, x='work_year', y='count', ax=axes[0])\n",
    "axes[0].set_title('Год')\n",
    "\n",
    "sns.barplot(ds_salaries_experience, x='experience_level', y='count', ax=axes[1])\n",
    "axes[1].set_title('Опыт работы')\n",
    "\n",
    "sns.barplot(ds_salaries_remote, x='remote_ratio', y='count', ax=axes[2])\n",
    "axes[2].set_title('Доля удалённой работы')\n",
    "\n",
    "sns.barplot(ds_salaries_company, x='company_size', y='count', ax=axes[3])\n",
    "axes[3].set_title('Размер компании')\n",
    "\n",
    "plt.show()"
   ]
  },
  {
   "cell_type": "markdown",
   "metadata": {},
   "source": [
    "На наш взгляд, признаки work_year и remote_ratio не нуждаются в кодировке, поскольку их значения и так передают и разницу, и смысл этих признаков. А вот признаки experience_level и company_size мы закодируем так, чтобы меньшее число кода соответствовало меньшему размеру значений в признаках experience_level и company_size. Откодированные столбцы переименуем, а исходные удалим за ненадобностью."
   ]
  },
  {
   "cell_type": "code",
   "execution_count": 65,
   "metadata": {},
   "outputs": [
    {
     "data": {
      "text/html": [
       "<div>\n",
       "<style scoped>\n",
       "    .dataframe tbody tr th:only-of-type {\n",
       "        vertical-align: middle;\n",
       "    }\n",
       "\n",
       "    .dataframe tbody tr th {\n",
       "        vertical-align: top;\n",
       "    }\n",
       "\n",
       "    .dataframe thead th {\n",
       "        text-align: right;\n",
       "    }\n",
       "</style>\n",
       "<table border=\"1\" class=\"dataframe\">\n",
       "  <thead>\n",
       "    <tr style=\"text-align: right;\">\n",
       "      <th></th>\n",
       "      <th>work_year</th>\n",
       "      <th>employment_type</th>\n",
       "      <th>job_title</th>\n",
       "      <th>salary_in_usd</th>\n",
       "      <th>employee_residence</th>\n",
       "      <th>remote_ratio</th>\n",
       "      <th>company_location</th>\n",
       "      <th>experience_lvl</th>\n",
       "      <th>Company_Size</th>\n",
       "    </tr>\n",
       "  </thead>\n",
       "  <tbody>\n",
       "    <tr>\n",
       "      <th>0</th>\n",
       "      <td>2020</td>\n",
       "      <td>FT</td>\n",
       "      <td>Data Scientist</td>\n",
       "      <td>79833</td>\n",
       "      <td>DE</td>\n",
       "      <td>0</td>\n",
       "      <td>DE</td>\n",
       "      <td>2</td>\n",
       "      <td>3</td>\n",
       "    </tr>\n",
       "    <tr>\n",
       "      <th>1</th>\n",
       "      <td>2020</td>\n",
       "      <td>FT</td>\n",
       "      <td>Machine Learning Scientist</td>\n",
       "      <td>260000</td>\n",
       "      <td>JP</td>\n",
       "      <td>0</td>\n",
       "      <td>JP</td>\n",
       "      <td>3</td>\n",
       "      <td>1</td>\n",
       "    </tr>\n",
       "    <tr>\n",
       "      <th>2</th>\n",
       "      <td>2020</td>\n",
       "      <td>FT</td>\n",
       "      <td>Big Data Engineer</td>\n",
       "      <td>109024</td>\n",
       "      <td>GB</td>\n",
       "      <td>50</td>\n",
       "      <td>GB</td>\n",
       "      <td>3</td>\n",
       "      <td>2</td>\n",
       "    </tr>\n",
       "    <tr>\n",
       "      <th>3</th>\n",
       "      <td>2020</td>\n",
       "      <td>FT</td>\n",
       "      <td>Product Data Analyst</td>\n",
       "      <td>20000</td>\n",
       "      <td>HN</td>\n",
       "      <td>0</td>\n",
       "      <td>HN</td>\n",
       "      <td>2</td>\n",
       "      <td>1</td>\n",
       "    </tr>\n",
       "    <tr>\n",
       "      <th>4</th>\n",
       "      <td>2020</td>\n",
       "      <td>FT</td>\n",
       "      <td>Machine Learning Engineer</td>\n",
       "      <td>150000</td>\n",
       "      <td>US</td>\n",
       "      <td>50</td>\n",
       "      <td>US</td>\n",
       "      <td>3</td>\n",
       "      <td>3</td>\n",
       "    </tr>\n",
       "    <tr>\n",
       "      <th>...</th>\n",
       "      <td>...</td>\n",
       "      <td>...</td>\n",
       "      <td>...</td>\n",
       "      <td>...</td>\n",
       "      <td>...</td>\n",
       "      <td>...</td>\n",
       "      <td>...</td>\n",
       "      <td>...</td>\n",
       "      <td>...</td>\n",
       "    </tr>\n",
       "    <tr>\n",
       "      <th>602</th>\n",
       "      <td>2022</td>\n",
       "      <td>FT</td>\n",
       "      <td>Data Engineer</td>\n",
       "      <td>154000</td>\n",
       "      <td>US</td>\n",
       "      <td>100</td>\n",
       "      <td>US</td>\n",
       "      <td>3</td>\n",
       "      <td>2</td>\n",
       "    </tr>\n",
       "    <tr>\n",
       "      <th>603</th>\n",
       "      <td>2022</td>\n",
       "      <td>FT</td>\n",
       "      <td>Data Engineer</td>\n",
       "      <td>126000</td>\n",
       "      <td>US</td>\n",
       "      <td>100</td>\n",
       "      <td>US</td>\n",
       "      <td>3</td>\n",
       "      <td>2</td>\n",
       "    </tr>\n",
       "    <tr>\n",
       "      <th>604</th>\n",
       "      <td>2022</td>\n",
       "      <td>FT</td>\n",
       "      <td>Data Analyst</td>\n",
       "      <td>129000</td>\n",
       "      <td>US</td>\n",
       "      <td>0</td>\n",
       "      <td>US</td>\n",
       "      <td>3</td>\n",
       "      <td>2</td>\n",
       "    </tr>\n",
       "    <tr>\n",
       "      <th>605</th>\n",
       "      <td>2022</td>\n",
       "      <td>FT</td>\n",
       "      <td>Data Analyst</td>\n",
       "      <td>150000</td>\n",
       "      <td>US</td>\n",
       "      <td>100</td>\n",
       "      <td>US</td>\n",
       "      <td>3</td>\n",
       "      <td>2</td>\n",
       "    </tr>\n",
       "    <tr>\n",
       "      <th>606</th>\n",
       "      <td>2022</td>\n",
       "      <td>FT</td>\n",
       "      <td>AI Scientist</td>\n",
       "      <td>200000</td>\n",
       "      <td>IN</td>\n",
       "      <td>100</td>\n",
       "      <td>US</td>\n",
       "      <td>2</td>\n",
       "      <td>3</td>\n",
       "    </tr>\n",
       "  </tbody>\n",
       "</table>\n",
       "<p>607 rows × 9 columns</p>\n",
       "</div>"
      ],
      "text/plain": [
       "     work_year employment_type                   job_title  salary_in_usd  \\\n",
       "0         2020              FT              Data Scientist          79833   \n",
       "1         2020              FT  Machine Learning Scientist         260000   \n",
       "2         2020              FT           Big Data Engineer         109024   \n",
       "3         2020              FT        Product Data Analyst          20000   \n",
       "4         2020              FT   Machine Learning Engineer         150000   \n",
       "..         ...             ...                         ...            ...   \n",
       "602       2022              FT               Data Engineer         154000   \n",
       "603       2022              FT               Data Engineer         126000   \n",
       "604       2022              FT                Data Analyst         129000   \n",
       "605       2022              FT                Data Analyst         150000   \n",
       "606       2022              FT                AI Scientist         200000   \n",
       "\n",
       "    employee_residence  remote_ratio company_location  experience_lvl  \\\n",
       "0                   DE             0               DE               2   \n",
       "1                   JP             0               JP               3   \n",
       "2                   GB            50               GB               3   \n",
       "3                   HN             0               HN               2   \n",
       "4                   US            50               US               3   \n",
       "..                 ...           ...              ...             ...   \n",
       "602                 US           100               US               3   \n",
       "603                 US           100               US               3   \n",
       "604                 US             0               US               3   \n",
       "605                 US           100               US               3   \n",
       "606                 IN           100               US               2   \n",
       "\n",
       "     Company_Size  \n",
       "0               3  \n",
       "1               1  \n",
       "2               2  \n",
       "3               1  \n",
       "4               3  \n",
       "..            ...  \n",
       "602             2  \n",
       "603             2  \n",
       "604             2  \n",
       "605             2  \n",
       "606             3  \n",
       "\n",
       "[607 rows x 9 columns]"
      ]
     },
     "execution_count": 65,
     "metadata": {},
     "output_type": "execute_result"
    }
   ],
   "source": [
    "# Кодируем признак experience_level:\n",
    "ds_salaries['experience_lvl'] = ds_salaries['experience_level'].apply(lambda x: 1 if x == 'EN' else\n",
    "                                                                      2 if x == 'MI' else\n",
    "                                                                      3 if x == 'SE' else 4)\n",
    "# Кодируем признак company_size:\n",
    "ds_salaries['Company_Size'] = ds_salaries['company_size'].apply(lambda x: 1 if x == 'S' else\n",
    "                                                                2 if x == 'M' else 3)\n",
    "# Удаляем исходные столбцы, подвергшиеся кодировке:\n",
    "ds_salaries = ds_salaries.drop(['experience_level', 'company_size'], axis=1)\n",
    "\n",
    "ds_salaries"
   ]
  },
  {
   "cell_type": "markdown",
   "metadata": {},
   "source": [
    "### Кодирование категориальных номинальных признаков"
   ]
  },
  {
   "cell_type": "markdown",
   "metadata": {},
   "source": [
    "Согласно нашему анализу у нас 4 категориальных номинальных признака:\n",
    "\n",
    "* employment_type (4 значения),\n",
    "* job_title,\n",
    "* employee_residence,\n",
    "* company_location.\n",
    "\n",
    "Определим характер распределения значений в данном типе признаков."
   ]
  },
  {
   "cell_type": "code",
   "execution_count": 66,
   "metadata": {},
   "outputs": [
    {
     "data": {
      "image/png": "[encoded data removed]",
      "text/plain": [
       "<Figure size 640x480 with 1 Axes>"
      ]
     },
     "metadata": {},
     "output_type": "display_data"
    }
   ],
   "source": [
    "# Проанализируем признак employment_type.\n",
    "# Создадим сводную таблицу с группировкой по данному признаку и визуализируем его:\n",
    "ds_salaries_employment = ds_salaries.groupby(\n",
    "    by = ('employment_type'),\n",
    "    as_index = False\n",
    "    )['employment_type'].value_counts()\n",
    "\n",
    "ax = sns.barplot(ds_salaries_employment, x='employment_type', y='count').set_title('Тип трудоустройства')\n",
    "\n",
    "plt.show()"
   ]
  },
  {
   "cell_type": "markdown",
   "metadata": {},
   "source": [
    "Как видно из графика, доля значений \"СТ\", \"FL\" и \"РТ\" в общем наборе значений пренебрежительно мала. Это даёт нам возможность ввести новый признак \"is_FT\", который будет принимать значение\"1\", если сотрудник был занят полный рабочий день, и \"0\" в противном случае."
   ]
  },
  {
   "cell_type": "code",
   "execution_count": 67,
   "metadata": {},
   "outputs": [
    {
     "data": {
      "text/html": [
       "<div>\n",
       "<style scoped>\n",
       "    .dataframe tbody tr th:only-of-type {\n",
       "        vertical-align: middle;\n",
       "    }\n",
       "\n",
       "    .dataframe tbody tr th {\n",
       "        vertical-align: top;\n",
       "    }\n",
       "\n",
       "    .dataframe thead th {\n",
       "        text-align: right;\n",
       "    }\n",
       "</style>\n",
       "<table border=\"1\" class=\"dataframe\">\n",
       "  <thead>\n",
       "    <tr style=\"text-align: right;\">\n",
       "      <th></th>\n",
       "      <th>work_year</th>\n",
       "      <th>job_title</th>\n",
       "      <th>salary_in_usd</th>\n",
       "      <th>employee_residence</th>\n",
       "      <th>remote_ratio</th>\n",
       "      <th>company_location</th>\n",
       "      <th>experience_lvl</th>\n",
       "      <th>Company_Size</th>\n",
       "      <th>is_FT</th>\n",
       "    </tr>\n",
       "  </thead>\n",
       "  <tbody>\n",
       "    <tr>\n",
       "      <th>0</th>\n",
       "      <td>2020</td>\n",
       "      <td>Data Scientist</td>\n",
       "      <td>79833</td>\n",
       "      <td>DE</td>\n",
       "      <td>0</td>\n",
       "      <td>DE</td>\n",
       "      <td>2</td>\n",
       "      <td>3</td>\n",
       "      <td>1</td>\n",
       "    </tr>\n",
       "    <tr>\n",
       "      <th>1</th>\n",
       "      <td>2020</td>\n",
       "      <td>Machine Learning Scientist</td>\n",
       "      <td>260000</td>\n",
       "      <td>JP</td>\n",
       "      <td>0</td>\n",
       "      <td>JP</td>\n",
       "      <td>3</td>\n",
       "      <td>1</td>\n",
       "      <td>1</td>\n",
       "    </tr>\n",
       "    <tr>\n",
       "      <th>2</th>\n",
       "      <td>2020</td>\n",
       "      <td>Big Data Engineer</td>\n",
       "      <td>109024</td>\n",
       "      <td>GB</td>\n",
       "      <td>50</td>\n",
       "      <td>GB</td>\n",
       "      <td>3</td>\n",
       "      <td>2</td>\n",
       "      <td>1</td>\n",
       "    </tr>\n",
       "    <tr>\n",
       "      <th>3</th>\n",
       "      <td>2020</td>\n",
       "      <td>Product Data Analyst</td>\n",
       "      <td>20000</td>\n",
       "      <td>HN</td>\n",
       "      <td>0</td>\n",
       "      <td>HN</td>\n",
       "      <td>2</td>\n",
       "      <td>1</td>\n",
       "      <td>1</td>\n",
       "    </tr>\n",
       "    <tr>\n",
       "      <th>4</th>\n",
       "      <td>2020</td>\n",
       "      <td>Machine Learning Engineer</td>\n",
       "      <td>150000</td>\n",
       "      <td>US</td>\n",
       "      <td>50</td>\n",
       "      <td>US</td>\n",
       "      <td>3</td>\n",
       "      <td>3</td>\n",
       "      <td>1</td>\n",
       "    </tr>\n",
       "    <tr>\n",
       "      <th>...</th>\n",
       "      <td>...</td>\n",
       "      <td>...</td>\n",
       "      <td>...</td>\n",
       "      <td>...</td>\n",
       "      <td>...</td>\n",
       "      <td>...</td>\n",
       "      <td>...</td>\n",
       "      <td>...</td>\n",
       "      <td>...</td>\n",
       "    </tr>\n",
       "    <tr>\n",
       "      <th>602</th>\n",
       "      <td>2022</td>\n",
       "      <td>Data Engineer</td>\n",
       "      <td>154000</td>\n",
       "      <td>US</td>\n",
       "      <td>100</td>\n",
       "      <td>US</td>\n",
       "      <td>3</td>\n",
       "      <td>2</td>\n",
       "      <td>1</td>\n",
       "    </tr>\n",
       "    <tr>\n",
       "      <th>603</th>\n",
       "      <td>2022</td>\n",
       "      <td>Data Engineer</td>\n",
       "      <td>126000</td>\n",
       "      <td>US</td>\n",
       "      <td>100</td>\n",
       "      <td>US</td>\n",
       "      <td>3</td>\n",
       "      <td>2</td>\n",
       "      <td>1</td>\n",
       "    </tr>\n",
       "    <tr>\n",
       "      <th>604</th>\n",
       "      <td>2022</td>\n",
       "      <td>Data Analyst</td>\n",
       "      <td>129000</td>\n",
       "      <td>US</td>\n",
       "      <td>0</td>\n",
       "      <td>US</td>\n",
       "      <td>3</td>\n",
       "      <td>2</td>\n",
       "      <td>1</td>\n",
       "    </tr>\n",
       "    <tr>\n",
       "      <th>605</th>\n",
       "      <td>2022</td>\n",
       "      <td>Data Analyst</td>\n",
       "      <td>150000</td>\n",
       "      <td>US</td>\n",
       "      <td>100</td>\n",
       "      <td>US</td>\n",
       "      <td>3</td>\n",
       "      <td>2</td>\n",
       "      <td>1</td>\n",
       "    </tr>\n",
       "    <tr>\n",
       "      <th>606</th>\n",
       "      <td>2022</td>\n",
       "      <td>AI Scientist</td>\n",
       "      <td>200000</td>\n",
       "      <td>IN</td>\n",
       "      <td>100</td>\n",
       "      <td>US</td>\n",
       "      <td>2</td>\n",
       "      <td>3</td>\n",
       "      <td>1</td>\n",
       "    </tr>\n",
       "  </tbody>\n",
       "</table>\n",
       "<p>607 rows × 9 columns</p>\n",
       "</div>"
      ],
      "text/plain": [
       "     work_year                   job_title  salary_in_usd employee_residence  \\\n",
       "0         2020              Data Scientist          79833                 DE   \n",
       "1         2020  Machine Learning Scientist         260000                 JP   \n",
       "2         2020           Big Data Engineer         109024                 GB   \n",
       "3         2020        Product Data Analyst          20000                 HN   \n",
       "4         2020   Machine Learning Engineer         150000                 US   \n",
       "..         ...                         ...            ...                ...   \n",
       "602       2022               Data Engineer         154000                 US   \n",
       "603       2022               Data Engineer         126000                 US   \n",
       "604       2022                Data Analyst         129000                 US   \n",
       "605       2022                Data Analyst         150000                 US   \n",
       "606       2022                AI Scientist         200000                 IN   \n",
       "\n",
       "     remote_ratio company_location  experience_lvl  Company_Size  is_FT  \n",
       "0               0               DE               2             3      1  \n",
       "1               0               JP               3             1      1  \n",
       "2              50               GB               3             2      1  \n",
       "3               0               HN               2             1      1  \n",
       "4              50               US               3             3      1  \n",
       "..            ...              ...             ...           ...    ...  \n",
       "602           100               US               3             2      1  \n",
       "603           100               US               3             2      1  \n",
       "604             0               US               3             2      1  \n",
       "605           100               US               3             2      1  \n",
       "606           100               US               2             3      1  \n",
       "\n",
       "[607 rows x 9 columns]"
      ]
     },
     "execution_count": 67,
     "metadata": {},
     "output_type": "execute_result"
    }
   ],
   "source": [
    "# Прменим к столбцу employment_type лямбда-функцию с заданным условием:\n",
    "ds_salaries['is_FT'] = ds_salaries['employment_type'].apply(lambda x: 1 if x == 'FT' else 0)\n",
    "# Удалим ненужный теперь столбец employment_type:\n",
    "ds_salaries.drop('employment_type', axis=1, inplace=True)\n",
    "ds_salaries"
   ]
  },
  {
   "cell_type": "markdown",
   "metadata": {},
   "source": [
    "Следующий признак - job_title. Согласно поставленной перед нами задаче, из всего списка перечисленных в данном признаке значений нам придётся анализировать только два: Data Scientist и Data Engineer. Остальные значения никак в анализе участвовать не будут. В таком случае нам целесообразно оставить только эти два значения в признаке job_title, а все остальные обозначить, как \"прочие\". Кодировку произведём следующим образом: введём новый признак job. Значения в нём будут следующие: если сотрудник был в должности Data Scientist, то признак job принимает значение \"1\". Data Engineer - значение \"2\". Прочие должности - значение \"0\"."
   ]
  },
  {
   "cell_type": "code",
   "execution_count": 68,
   "metadata": {},
   "outputs": [
    {
     "data": {
      "text/html": [
       "<div>\n",
       "<style scoped>\n",
       "    .dataframe tbody tr th:only-of-type {\n",
       "        vertical-align: middle;\n",
       "    }\n",
       "\n",
       "    .dataframe tbody tr th {\n",
       "        vertical-align: top;\n",
       "    }\n",
       "\n",
       "    .dataframe thead th {\n",
       "        text-align: right;\n",
       "    }\n",
       "</style>\n",
       "<table border=\"1\" class=\"dataframe\">\n",
       "  <thead>\n",
       "    <tr style=\"text-align: right;\">\n",
       "      <th></th>\n",
       "      <th>work_year</th>\n",
       "      <th>salary_in_usd</th>\n",
       "      <th>employee_residence</th>\n",
       "      <th>remote_ratio</th>\n",
       "      <th>company_location</th>\n",
       "      <th>experience_lvl</th>\n",
       "      <th>Company_Size</th>\n",
       "      <th>is_FT</th>\n",
       "      <th>job</th>\n",
       "    </tr>\n",
       "  </thead>\n",
       "  <tbody>\n",
       "    <tr>\n",
       "      <th>0</th>\n",
       "      <td>2020</td>\n",
       "      <td>79833</td>\n",
       "      <td>DE</td>\n",
       "      <td>0</td>\n",
       "      <td>DE</td>\n",
       "      <td>2</td>\n",
       "      <td>3</td>\n",
       "      <td>1</td>\n",
       "      <td>1</td>\n",
       "    </tr>\n",
       "    <tr>\n",
       "      <th>1</th>\n",
       "      <td>2020</td>\n",
       "      <td>260000</td>\n",
       "      <td>JP</td>\n",
       "      <td>0</td>\n",
       "      <td>JP</td>\n",
       "      <td>3</td>\n",
       "      <td>1</td>\n",
       "      <td>1</td>\n",
       "      <td>0</td>\n",
       "    </tr>\n",
       "    <tr>\n",
       "      <th>2</th>\n",
       "      <td>2020</td>\n",
       "      <td>109024</td>\n",
       "      <td>GB</td>\n",
       "      <td>50</td>\n",
       "      <td>GB</td>\n",
       "      <td>3</td>\n",
       "      <td>2</td>\n",
       "      <td>1</td>\n",
       "      <td>0</td>\n",
       "    </tr>\n",
       "    <tr>\n",
       "      <th>3</th>\n",
       "      <td>2020</td>\n",
       "      <td>20000</td>\n",
       "      <td>HN</td>\n",
       "      <td>0</td>\n",
       "      <td>HN</td>\n",
       "      <td>2</td>\n",
       "      <td>1</td>\n",
       "      <td>1</td>\n",
       "      <td>0</td>\n",
       "    </tr>\n",
       "    <tr>\n",
       "      <th>4</th>\n",
       "      <td>2020</td>\n",
       "      <td>150000</td>\n",
       "      <td>US</td>\n",
       "      <td>50</td>\n",
       "      <td>US</td>\n",
       "      <td>3</td>\n",
       "      <td>3</td>\n",
       "      <td>1</td>\n",
       "      <td>0</td>\n",
       "    </tr>\n",
       "    <tr>\n",
       "      <th>...</th>\n",
       "      <td>...</td>\n",
       "      <td>...</td>\n",
       "      <td>...</td>\n",
       "      <td>...</td>\n",
       "      <td>...</td>\n",
       "      <td>...</td>\n",
       "      <td>...</td>\n",
       "      <td>...</td>\n",
       "      <td>...</td>\n",
       "    </tr>\n",
       "    <tr>\n",
       "      <th>602</th>\n",
       "      <td>2022</td>\n",
       "      <td>154000</td>\n",
       "      <td>US</td>\n",
       "      <td>100</td>\n",
       "      <td>US</td>\n",
       "      <td>3</td>\n",
       "      <td>2</td>\n",
       "      <td>1</td>\n",
       "      <td>2</td>\n",
       "    </tr>\n",
       "    <tr>\n",
       "      <th>603</th>\n",
       "      <td>2022</td>\n",
       "      <td>126000</td>\n",
       "      <td>US</td>\n",
       "      <td>100</td>\n",
       "      <td>US</td>\n",
       "      <td>3</td>\n",
       "      <td>2</td>\n",
       "      <td>1</td>\n",
       "      <td>2</td>\n",
       "    </tr>\n",
       "    <tr>\n",
       "      <th>604</th>\n",
       "      <td>2022</td>\n",
       "      <td>129000</td>\n",
       "      <td>US</td>\n",
       "      <td>0</td>\n",
       "      <td>US</td>\n",
       "      <td>3</td>\n",
       "      <td>2</td>\n",
       "      <td>1</td>\n",
       "      <td>0</td>\n",
       "    </tr>\n",
       "    <tr>\n",
       "      <th>605</th>\n",
       "      <td>2022</td>\n",
       "      <td>150000</td>\n",
       "      <td>US</td>\n",
       "      <td>100</td>\n",
       "      <td>US</td>\n",
       "      <td>3</td>\n",
       "      <td>2</td>\n",
       "      <td>1</td>\n",
       "      <td>0</td>\n",
       "    </tr>\n",
       "    <tr>\n",
       "      <th>606</th>\n",
       "      <td>2022</td>\n",
       "      <td>200000</td>\n",
       "      <td>IN</td>\n",
       "      <td>100</td>\n",
       "      <td>US</td>\n",
       "      <td>2</td>\n",
       "      <td>3</td>\n",
       "      <td>1</td>\n",
       "      <td>0</td>\n",
       "    </tr>\n",
       "  </tbody>\n",
       "</table>\n",
       "<p>607 rows × 9 columns</p>\n",
       "</div>"
      ],
      "text/plain": [
       "     work_year  salary_in_usd employee_residence  remote_ratio  \\\n",
       "0         2020          79833                 DE             0   \n",
       "1         2020         260000                 JP             0   \n",
       "2         2020         109024                 GB            50   \n",
       "3         2020          20000                 HN             0   \n",
       "4         2020         150000                 US            50   \n",
       "..         ...            ...                ...           ...   \n",
       "602       2022         154000                 US           100   \n",
       "603       2022         126000                 US           100   \n",
       "604       2022         129000                 US             0   \n",
       "605       2022         150000                 US           100   \n",
       "606       2022         200000                 IN           100   \n",
       "\n",
       "    company_location  experience_lvl  Company_Size  is_FT  job  \n",
       "0                 DE               2             3      1    1  \n",
       "1                 JP               3             1      1    0  \n",
       "2                 GB               3             2      1    0  \n",
       "3                 HN               2             1      1    0  \n",
       "4                 US               3             3      1    0  \n",
       "..               ...             ...           ...    ...  ...  \n",
       "602               US               3             2      1    2  \n",
       "603               US               3             2      1    2  \n",
       "604               US               3             2      1    0  \n",
       "605               US               3             2      1    0  \n",
       "606               US               2             3      1    0  \n",
       "\n",
       "[607 rows x 9 columns]"
      ]
     },
     "execution_count": 68,
     "metadata": {},
     "output_type": "execute_result"
    }
   ],
   "source": [
    "# Создадим новый столбец job и временно заполним его пропусками:\n",
    "ds_salaries['job'] = np.nan\n",
    "\n",
    "# Создадим функцию recognize_job, которая будет распознавать должность работника:\n",
    "def recognize_job(item):\n",
    "    if item == 'Data Scientist':\n",
    "        result = 1\n",
    "    elif item == 'Data Engineer':\n",
    "        result = 2\n",
    "    else:\n",
    "        result = 0\n",
    "    return result\n",
    "\n",
    "# Применим функцию к столбцу job_title\n",
    "our_job = ds_salaries['job_title'].apply(recognize_job)\n",
    "# Заполним столбец job новыми значениями\n",
    "ds_salaries['job'] = our_job\n",
    "# Столбец job_title больше не нужен, удаляем его:\n",
    "ds_salaries.drop('job_title', axis=1, inplace=True)\n",
    "ds_salaries"
   ]
  },
  {
   "cell_type": "markdown",
   "metadata": {},
   "source": [
    "Следующий признак - employee_residence. Проанализируем его."
   ]
  },
  {
   "cell_type": "code",
   "execution_count": 69,
   "metadata": {},
   "outputs": [
    {
     "data": {
      "image/png": "[encoded data removed]",
      "text/plain": [
       "<Figure size 2000x500 with 1 Axes>"
      ]
     },
     "metadata": {},
     "output_type": "display_data"
    }
   ],
   "source": [
    "# Создадим сводную таблицу с группировкой по данному признаку и визуализируем его:\n",
    "ds_salaries_residence = ds_salaries.groupby(\n",
    "    by = ('employee_residence'),\n",
    "    as_index = False\n",
    "    )['employee_residence'].value_counts()\n",
    "\n",
    "fig = plt.subplots(1, 1, figsize=(20, 5))\n",
    "sns.barplot(ds_salaries_residence, x='employee_residence', y='count')\n",
    "plt.show()"
   ]
  },
  {
   "cell_type": "markdown",
   "metadata": {},
   "source": [
    "Как видно из визуализации, в подавляющем большинстве случаев данный признак принимает значения \"US\". Учитывая тот факт, что место работы человека редко не совпадает с его местом проживания, можно предположить, что распределение признака \"company_location\" - последнего из категориальных - будет иметь схожий характер. Проверим эту гипотезу."
   ]
  },
  {
   "cell_type": "code",
   "execution_count": 70,
   "metadata": {},
   "outputs": [
    {
     "data": {
      "image/png": "[encoded data removed]",
      "text/plain": [
       "<Figure size 2000x500 with 1 Axes>"
      ]
     },
     "metadata": {},
     "output_type": "display_data"
    }
   ],
   "source": [
    "# Создадим сводную таблицу с группировкой по данному признаку и визуализируем его:\n",
    "ds_salaries_location = ds_salaries.groupby(\n",
    "    by = ('company_location'),\n",
    "    as_index = False\n",
    "    )['company_location'].value_counts()\n",
    "\n",
    "fig = plt.subplots(1, 1, figsize=(20, 5))\n",
    "sns.barplot(ds_salaries_location, x='company_location', y='count')\n",
    "plt.show()"
   ]
  },
  {
   "cell_type": "markdown",
   "metadata": {},
   "source": [
    "Наше предположение оказалось верным. Более того: доля значений \"US\" в признаке company_location даже больше, чем в признаке employee_residence. Таким образом, к обоим данным признакам мы можем применить один и тот же метод: создадим новый признак from_US и заполним его значениями \"1\", если employee_residence = \"US\". В противном случае from_US = 0. Признак company_location можно удалить из данных по двум причинам:\n",
    "1. он мультиколлинеарен с признаком employee_residence,\n",
    "2. зарплата сотрудника больше зависит именно от места проживания, чем от резиденции компании."
   ]
  },
  {
   "cell_type": "code",
   "execution_count": 71,
   "metadata": {},
   "outputs": [
    {
     "data": {
      "text/html": [
       "<div>\n",
       "<style scoped>\n",
       "    .dataframe tbody tr th:only-of-type {\n",
       "        vertical-align: middle;\n",
       "    }\n",
       "\n",
       "    .dataframe tbody tr th {\n",
       "        vertical-align: top;\n",
       "    }\n",
       "\n",
       "    .dataframe thead th {\n",
       "        text-align: right;\n",
       "    }\n",
       "</style>\n",
       "<table border=\"1\" class=\"dataframe\">\n",
       "  <thead>\n",
       "    <tr style=\"text-align: right;\">\n",
       "      <th></th>\n",
       "      <th>work_year</th>\n",
       "      <th>salary_in_usd</th>\n",
       "      <th>remote_ratio</th>\n",
       "      <th>experience_lvl</th>\n",
       "      <th>Company_Size</th>\n",
       "      <th>is_FT</th>\n",
       "      <th>job</th>\n",
       "      <th>from_US</th>\n",
       "    </tr>\n",
       "  </thead>\n",
       "  <tbody>\n",
       "    <tr>\n",
       "      <th>0</th>\n",
       "      <td>2020</td>\n",
       "      <td>79833</td>\n",
       "      <td>0</td>\n",
       "      <td>2</td>\n",
       "      <td>3</td>\n",
       "      <td>1</td>\n",
       "      <td>1</td>\n",
       "      <td>0</td>\n",
       "    </tr>\n",
       "    <tr>\n",
       "      <th>1</th>\n",
       "      <td>2020</td>\n",
       "      <td>260000</td>\n",
       "      <td>0</td>\n",
       "      <td>3</td>\n",
       "      <td>1</td>\n",
       "      <td>1</td>\n",
       "      <td>0</td>\n",
       "      <td>0</td>\n",
       "    </tr>\n",
       "    <tr>\n",
       "      <th>2</th>\n",
       "      <td>2020</td>\n",
       "      <td>109024</td>\n",
       "      <td>50</td>\n",
       "      <td>3</td>\n",
       "      <td>2</td>\n",
       "      <td>1</td>\n",
       "      <td>0</td>\n",
       "      <td>0</td>\n",
       "    </tr>\n",
       "    <tr>\n",
       "      <th>3</th>\n",
       "      <td>2020</td>\n",
       "      <td>20000</td>\n",
       "      <td>0</td>\n",
       "      <td>2</td>\n",
       "      <td>1</td>\n",
       "      <td>1</td>\n",
       "      <td>0</td>\n",
       "      <td>0</td>\n",
       "    </tr>\n",
       "    <tr>\n",
       "      <th>4</th>\n",
       "      <td>2020</td>\n",
       "      <td>150000</td>\n",
       "      <td>50</td>\n",
       "      <td>3</td>\n",
       "      <td>3</td>\n",
       "      <td>1</td>\n",
       "      <td>0</td>\n",
       "      <td>1</td>\n",
       "    </tr>\n",
       "    <tr>\n",
       "      <th>...</th>\n",
       "      <td>...</td>\n",
       "      <td>...</td>\n",
       "      <td>...</td>\n",
       "      <td>...</td>\n",
       "      <td>...</td>\n",
       "      <td>...</td>\n",
       "      <td>...</td>\n",
       "      <td>...</td>\n",
       "    </tr>\n",
       "    <tr>\n",
       "      <th>602</th>\n",
       "      <td>2022</td>\n",
       "      <td>154000</td>\n",
       "      <td>100</td>\n",
       "      <td>3</td>\n",
       "      <td>2</td>\n",
       "      <td>1</td>\n",
       "      <td>2</td>\n",
       "      <td>1</td>\n",
       "    </tr>\n",
       "    <tr>\n",
       "      <th>603</th>\n",
       "      <td>2022</td>\n",
       "      <td>126000</td>\n",
       "      <td>100</td>\n",
       "      <td>3</td>\n",
       "      <td>2</td>\n",
       "      <td>1</td>\n",
       "      <td>2</td>\n",
       "      <td>1</td>\n",
       "    </tr>\n",
       "    <tr>\n",
       "      <th>604</th>\n",
       "      <td>2022</td>\n",
       "      <td>129000</td>\n",
       "      <td>0</td>\n",
       "      <td>3</td>\n",
       "      <td>2</td>\n",
       "      <td>1</td>\n",
       "      <td>0</td>\n",
       "      <td>1</td>\n",
       "    </tr>\n",
       "    <tr>\n",
       "      <th>605</th>\n",
       "      <td>2022</td>\n",
       "      <td>150000</td>\n",
       "      <td>100</td>\n",
       "      <td>3</td>\n",
       "      <td>2</td>\n",
       "      <td>1</td>\n",
       "      <td>0</td>\n",
       "      <td>1</td>\n",
       "    </tr>\n",
       "    <tr>\n",
       "      <th>606</th>\n",
       "      <td>2022</td>\n",
       "      <td>200000</td>\n",
       "      <td>100</td>\n",
       "      <td>2</td>\n",
       "      <td>3</td>\n",
       "      <td>1</td>\n",
       "      <td>0</td>\n",
       "      <td>0</td>\n",
       "    </tr>\n",
       "  </tbody>\n",
       "</table>\n",
       "<p>607 rows × 8 columns</p>\n",
       "</div>"
      ],
      "text/plain": [
       "     work_year  salary_in_usd  remote_ratio  experience_lvl  Company_Size  \\\n",
       "0         2020          79833             0               2             3   \n",
       "1         2020         260000             0               3             1   \n",
       "2         2020         109024            50               3             2   \n",
       "3         2020          20000             0               2             1   \n",
       "4         2020         150000            50               3             3   \n",
       "..         ...            ...           ...             ...           ...   \n",
       "602       2022         154000           100               3             2   \n",
       "603       2022         126000           100               3             2   \n",
       "604       2022         129000             0               3             2   \n",
       "605       2022         150000           100               3             2   \n",
       "606       2022         200000           100               2             3   \n",
       "\n",
       "     is_FT  job  from_US  \n",
       "0        1    1        0  \n",
       "1        1    0        0  \n",
       "2        1    0        0  \n",
       "3        1    0        0  \n",
       "4        1    0        1  \n",
       "..     ...  ...      ...  \n",
       "602      1    2        1  \n",
       "603      1    2        1  \n",
       "604      1    0        1  \n",
       "605      1    0        1  \n",
       "606      1    0        0  \n",
       "\n",
       "[607 rows x 8 columns]"
      ]
     },
     "execution_count": 71,
     "metadata": {},
     "output_type": "execute_result"
    }
   ],
   "source": [
    "# Прменим к столбцу employee_residence лямбда-функцию с заданным условием:\n",
    "ds_salaries['from_US'] = ds_salaries['employee_residence'].apply(lambda x: 1 if x == 'US' else 0)\n",
    "# Удалим ненужные теперь столбцы employee_residence и company_location:\n",
    "ds_salaries.drop(['employee_residence', 'company_location'], axis=1, inplace=True)\n",
    "ds_salaries"
   ]
  },
  {
   "cell_type": "markdown",
   "metadata": {},
   "source": [
    "Итак, наш набор данных принял окончательный вид и готов для анализа."
   ]
  },
  {
   "cell_type": "markdown",
   "metadata": {},
   "source": [
    "Прежде чем приступить к статистическому анализу данных, попробуеи ответить на первый вопрос нашего задания: какие факторы влияют на зарплату дата-сайентистов. Построим тепловую карту корреляций."
   ]
  },
  {
   "cell_type": "code",
   "execution_count": 72,
   "metadata": {},
   "outputs": [
    {
     "data": {
      "image/png": "[encoded data removed]",
      "text/plain": [
       "<Figure size 3000x1500 with 2 Axes>"
      ]
     },
     "metadata": {},
     "output_type": "display_data"
    }
   ],
   "source": [
    "salaries_DS = ds_salaries.loc[ds_salaries['job'] == 1]\n",
    "\n",
    "fig, ax = plt.subplots(figsize=(30, 15))\n",
    "sns.heatmap(salaries_DS.corr(), annot=True, linewidths=.5, ax=ax, cmap=\"coolwarm\")\n",
    "plt.show()"
   ]
  },
  {
   "cell_type": "markdown",
   "metadata": {},
   "source": [
    "Как видно из тепловой карты сильная связь у признака salary_in_usd наблюдается лишь с признаком from_US. Отсюда мы сделаем предположение, что зарплата дата-сайентиста зависит от того, проживает ли он в США или нет. Кроме того, средняя связь у признака salary_in_usd наблюдается с признаком experience_lvl. Таким образом, путём точного статистического анализа нам требуется проверить два предположения:\n",
    "1. зарплата дата-сайентиста сильно зависит от места проживания,\n",
    "2. зарплата дата-сайентиста зависит от опыта работы."
   ]
  },
  {
   "cell_type": "markdown",
   "metadata": {},
   "source": [
    "## Статистический анализ данных"
   ]
  },
  {
   "cell_type": "code",
   "execution_count": 73,
   "metadata": {},
   "outputs": [
    {
     "name": "stdout",
     "output_type": "stream",
     "text": [
      "Уровень значимости - 0.05\n"
     ]
    }
   ],
   "source": [
    "# задаём уровень значимости\n",
    "alpha = 0.05 \n",
    "print(f'Уровень значимости - {alpha}')"
   ]
  },
  {
   "cell_type": "markdown",
   "metadata": {},
   "source": [
    "Чтобы автоматизировать нашу работу, создадим функции для принятия решения о нормальности распределения данных и для принятия решения об отклонении нулевой гипотезы."
   ]
  },
  {
   "cell_type": "code",
   "execution_count": 74,
   "metadata": {},
   "outputs": [],
   "source": [
    "# функция для принятия решения о нормальности\n",
    "def decision_normality(p):\n",
    "    print('p-value = {:.3f}'.format(p))\n",
    "    if p <= alpha:\n",
    "        print('p-значение меньше, чем заданный уровень значимости {:.2f}. Распределение отлично от нормального'.format(alpha))\n",
    "    else:\n",
    "        print('p-значение больше, чем заданный уровень значимости {:.2f}. Распределение является нормальным'.format(alpha))\n",
    "\n",
    "\n",
    "# функция для принятия решения об отклонении нулевой гипотезы\n",
    "def decision_hypothesis(p):\n",
    "    print('p-value = {:.3f}'.format(p))\n",
    "    if p <= alpha:\n",
    "        print('p-значение меньше, чем заданный уровень значимости {:.2f}. Отвергаем нулевую гипотезу в пользу альтернативной.'.format(alpha))\n",
    "    else:\n",
    "        print('p-значение больше, чем заданный уровень значимости {:.2f}. У нас нет оснований отвергнуть нулевую гипотезу.'.format(alpha))"
   ]
  },
  {
   "cell_type": "markdown",
   "metadata": {},
   "source": [
    "Вначале ответим на четыре вопроса, поставленные во втором задании."
   ]
  },
  {
   "cell_type": "markdown",
   "metadata": {},
   "source": [
    "### Есть ли ежегодный рост зарплаты у дата-сайентистов?"
   ]
  },
  {
   "cell_type": "markdown",
   "metadata": {},
   "source": [
    "Поиск ответа на данный вопрос провдём в два этапа. На первом этапе, проверим, изменяется ли зарплата из года в год. Если да, проверим, есть ли рост."
   ]
  },
  {
   "cell_type": "markdown",
   "metadata": {},
   "source": [
    "#### Первый этап."
   ]
  },
  {
   "cell_type": "markdown",
   "metadata": {},
   "source": [
    "##### Построение гипотез."
   ]
  },
  {
   "cell_type": "markdown",
   "metadata": {},
   "source": [
    "$H_0: \\mu_{2020} = \\mu_{2021} = \\mu_{2022}$ (нет ежегодного изменения зарплаты).\n",
    "\n",
    "$H_1: \\mu_{2020} \\not= \\mu_{2021} \\not= \\mu_{2022}$ (есть ежегодное изменение зарплаты)."
   ]
  },
  {
   "cell_type": "markdown",
   "metadata": {},
   "source": [
    "Вначале при помощи теста Шапиро-Уилка проанализируем на нормальность распределения выборки по зарплате за каждый год."
   ]
  },
  {
   "cell_type": "code",
   "execution_count": 75,
   "metadata": {},
   "outputs": [
    {
     "name": "stdout",
     "output_type": "stream",
     "text": [
      "Для 2020 года: \n",
      "p-value = 0.000\n",
      "p-значение меньше, чем заданный уровень значимости 0.05. Распределение отлично от нормального\n",
      "Для 2021 года: \n",
      "p-value = 0.125\n",
      "p-значение больше, чем заданный уровень значимости 0.05. Распределение является нормальным\n",
      "Для 2022 года: \n",
      "p-value = 0.327\n",
      "p-значение больше, чем заданный уровень значимости 0.05. Распределение является нормальным\n"
     ]
    }
   ],
   "source": [
    "# Выше мы уже отсортировали зарплату дата-сайентистов и сохранили результат в переменной salaries_DS.\n",
    "# Используем её для анализа.\n",
    "# Формируем выборки по зарплате за каждый год:\n",
    "salary_20 = salaries_DS.loc[salaries_DS['work_year'] == 2020, 'salary_in_usd']\n",
    "salary_21 = salaries_DS.loc[salaries_DS['work_year'] == 2021, 'salary_in_usd']\n",
    "salary_22 = salaries_DS.loc[salaries_DS['work_year'] == 2022, 'salary_in_usd']\n",
    "\n",
    "# проводим тест Шапиро-Уилка\n",
    "print(\"Для 2020 года: \")\n",
    "result = stats.shapiro(salary_20)\n",
    "decision_normality(result[1])\n",
    "\n",
    "print(\"Для 2021 года: \")\n",
    "result = stats.shapiro(salary_21)\n",
    "decision_normality(result[1])\n",
    "\n",
    "print(\"Для 2022 года: \")\n",
    "result = stats.shapiro(salary_22)\n",
    "decision_normality(result[1])"
   ]
  },
  {
   "cell_type": "markdown",
   "metadata": {},
   "source": [
    "Как видно из анализа, лишь данные за 2020 год распределены ненормально, а за 2021 и 2022 года - норомально. Этим и объяснялись наши сложности с невозможностью дать однозначный ответ о нормальности распределения на этапе предварительного анализа данных. Тем не менее, поскольку одна из выборок распределена ненормально, мы не можем применить параметрические тесты для ответа на вопрос, есть ли ежегодный рост зарплаты у дата-сайентистов."
   ]
  },
  {
   "cell_type": "markdown",
   "metadata": {},
   "source": [
    "##### Выбор статистического теста."
   ]
  },
  {
   "cell_type": "markdown",
   "metadata": {},
   "source": [
    "Тип данных - количественный.\n",
    "\n",
    "Количество групп для анализа - более 2.\n",
    "\n",
    "Зависимость данных - нет.\n",
    "\n",
    "Нормальность распределения данных - нет.\n",
    "\n",
    "**Выбираем тест Краскела-Уоллиса**"
   ]
  },
  {
   "cell_type": "code",
   "execution_count": 76,
   "metadata": {},
   "outputs": [
    {
     "name": "stdout",
     "output_type": "stream",
     "text": [
      "p-value = 0.000\n",
      "p-значение меньше, чем заданный уровень значимости 0.05. Отвергаем нулевую гипотезу в пользу альтернативной.\n"
     ]
    }
   ],
   "source": [
    "# Проводим тест:\n",
    "_, p = stats.kruskal(salary_20, salary_21, salary_22)\n",
    "# Обрабатываем результат теста при помощи функции decision_hypothesis\n",
    "decision_hypothesis(p)"
   ]
  },
  {
   "cell_type": "markdown",
   "metadata": {},
   "source": [
    "##### Вывод."
   ]
  },
  {
   "cell_type": "markdown",
   "metadata": {},
   "source": [
    "$p < \\alpha$. Отвергаем нулевую гипотезу. Ежегодное изменение зарплаты дата-сайентистов действительно присутствует."
   ]
  },
  {
   "cell_type": "markdown",
   "metadata": {},
   "source": [
    "#### Второй этап."
   ]
  },
  {
   "cell_type": "markdown",
   "metadata": {},
   "source": [
    "Проверим, есть ли ежегодный рост зарплаты. Для этого сравним сначала данные за 2020 и 2021 г., затем - за 2021 и 2022 г."
   ]
  },
  {
   "cell_type": "markdown",
   "metadata": {},
   "source": [
    "##### Сравнение зарплат за 2020 г. и 2021 г."
   ]
  },
  {
   "cell_type": "markdown",
   "metadata": {},
   "source": [
    "##### *Построение гипотез*."
   ]
  },
  {
   "cell_type": "markdown",
   "metadata": {},
   "source": [
    "$H_0: \\mu_{2020} >= \\mu_{2021}$ (рост зарплаты Data Scientist в 2020 году по отношению к зарплате в 2021 отсутствует).\n",
    "\n",
    "$H_1: \\mu_{2020} < \\mu_{2021}$ (рост зарплаты Data Scientist в 2020 году по отношению к зарплате в 2021 присутствует)."
   ]
  },
  {
   "cell_type": "markdown",
   "metadata": {},
   "source": [
    "##### *Сбор данных для проверки гипотезы*"
   ]
  },
  {
   "cell_type": "markdown",
   "metadata": {},
   "source": [
    "Все выборки сделаны. Распределение данных проанализировано. Поскольку в 2020 г. распределение данных было ненормальным, мы не можем применить параметрический тест."
   ]
  },
  {
   "cell_type": "markdown",
   "metadata": {},
   "source": [
    "##### *Выбор статистического теста*."
   ]
  },
  {
   "cell_type": "markdown",
   "metadata": {},
   "source": [
    "Тип данных - количественный.\n",
    "\n",
    "Количество групп для анализа - 2.\n",
    "\n",
    "Зависимость данных - нет.\n",
    "\n",
    "Нормальность распределения данных - нет.\n",
    "\n",
    "**Выбираем U-критерий Манна-Уитни**"
   ]
  },
  {
   "cell_type": "code",
   "execution_count": 77,
   "metadata": {},
   "outputs": [
    {
     "name": "stdout",
     "output_type": "stream",
     "text": [
      "p-value = 0.685\n",
      "p-значение больше, чем заданный уровень значимости 0.05. У нас нет оснований отвергнуть нулевую гипотезу.\n"
     ]
    }
   ],
   "source": [
    "# Проводим тест:\n",
    "_, p = stats.mannwhitneyu(salary_20, salary_21, alternative = 'less')\n",
    "# Обрабатываем результат:\n",
    "decision_hypothesis(p)"
   ]
  },
  {
   "cell_type": "markdown",
   "metadata": {},
   "source": [
    "##### *Вывод*."
   ]
  },
  {
   "cell_type": "markdown",
   "metadata": {},
   "source": [
    "У нас нет оснований считать, что в 2021 г. зарплата дата-сайентистов выросла по сравнению с 2021 г."
   ]
  },
  {
   "cell_type": "markdown",
   "metadata": {},
   "source": [
    "##### Сравнение зарплат за 2021 г. и 2022 г."
   ]
  },
  {
   "cell_type": "markdown",
   "metadata": {},
   "source": [
    "##### *Построение гипотез*."
   ]
  },
  {
   "cell_type": "markdown",
   "metadata": {},
   "source": [
    "$H_0: \\mu_{2021} >= \\mu_{2022}$ (рост зарплаты Data Scientist в 2021 году по отношению к зарплате в 2022 отсутствует).\n",
    "\n",
    "$H_1: \\mu_{2021} < \\mu_{2022}$ (рост зарплаты Data Scientist в 2021 году по отношению к зарплате в 2022 присутствует)."
   ]
  },
  {
   "cell_type": "markdown",
   "metadata": {},
   "source": [
    "##### *Сбор данных для проверки гипотезы*"
   ]
  },
  {
   "cell_type": "markdown",
   "metadata": {},
   "source": [
    "Все выборки сделаны. Распределение данных нормальное."
   ]
  },
  {
   "cell_type": "markdown",
   "metadata": {},
   "source": [
    "##### *Выбор статистического теста*."
   ]
  },
  {
   "cell_type": "markdown",
   "metadata": {},
   "source": [
    "Тип данных - количественный.\n",
    "\n",
    "Количество групп для анализа - 2.\n",
    "\n",
    "Зависимость данных - нет.\n",
    "\n",
    "Нормальность распределения данных - да.\n",
    "\n",
    "**Выбираем двухвыборочный t-критерий**"
   ]
  },
  {
   "cell_type": "code",
   "execution_count": 78,
   "metadata": {},
   "outputs": [
    {
     "name": "stdout",
     "output_type": "stream",
     "text": [
      "Тест на равенство дисперсий\n",
      "p-value = 0.445\n",
      "Дисперсии одинаковы, в stats.ttest_ind нужно использовать параметр equal_var=True.\n"
     ]
    }
   ],
   "source": [
    "# проводим тест Левена на равенство дисперсий\n",
    "print('Тест на равенство дисперсий')\n",
    "result = stats.levene(salary_21, salary_22)\n",
    "p = result[1]\n",
    "print('p-value = {:.3f}'.format(p))\n",
    "\n",
    "# интерпретируем результат\n",
    "if p <= alpha:\n",
    "    print('Дисперсии не одинаковы, в stats.ttest_ind нужно использовать параметр equal_var=False.')\n",
    "else:\n",
    "    print('Дисперсии одинаковы, в stats.ttest_ind нужно использовать параметр equal_var=True.')"
   ]
  },
  {
   "cell_type": "code",
   "execution_count": 79,
   "metadata": {},
   "outputs": [
    {
     "name": "stdout",
     "output_type": "stream",
     "text": [
      "p-value = 0.000\n",
      "p-значение меньше, чем заданный уровень значимости 0.05. Отвергаем нулевую гипотезу в пользу альтернативной.\n"
     ]
    }
   ],
   "source": [
    "# Проводим тест:\n",
    "_, p = stats.ttest_ind(salary_21, salary_22, alternative='less', equal_var=True)\n",
    "# Обрабатываем результат\n",
    "decision_hypothesis(p)"
   ]
  },
  {
   "cell_type": "markdown",
   "metadata": {},
   "source": [
    "#### Вывод."
   ]
  },
  {
   "cell_type": "markdown",
   "metadata": {},
   "source": [
    "Наша предварительная гипотеза о том, что в 2021 г. наблюдалось небольшое снижение средней зарплаты, а в 2022 г. её резкий рост подтвердилась. Окончательный ответ: нет оснований считать, что в 2021 г. произошёл рост зарплаты у дата-саёентистов, зато в 2022 г. зарплата действительно выросла."
   ]
  },
  {
   "cell_type": "markdown",
   "metadata": {},
   "source": [
    "### Как соотносятся зарплаты Data Scientist и Data Engineer в 2022 году?"
   ]
  },
  {
   "cell_type": "markdown",
   "metadata": {},
   "source": [
    "Поскольку ответ на вопрос, поставленный в таком виде, методами статистического анализа дать нельзя, то я возьму на себя смелость переформулировать его: различны ли зарплаты дата-сайентистов и инженеров данных в 2022 году?"
   ]
  },
  {
   "cell_type": "markdown",
   "metadata": {},
   "source": [
    "#### Построение гипотез."
   ]
  },
  {
   "cell_type": "markdown",
   "metadata": {},
   "source": [
    "$H_0: \\mu_{DS} = \\mu_{DE}$ (зарплаты Data Scientist и Data Engineer в 2022 году равны).\n",
    "\n",
    "$H_1: \\mu_{DS} \\not= \\mu_{DE}$ (зарплаты Data Scientist и Data Engineer в 2022 году различны)."
   ]
  },
  {
   "cell_type": "markdown",
   "metadata": {},
   "source": [
    "##### Сбор данных для проверки гипотезы."
   ]
  },
  {
   "cell_type": "code",
   "execution_count": 80,
   "metadata": {},
   "outputs": [
    {
     "name": "stdout",
     "output_type": "stream",
     "text": [
      "Для Data Scientist: \n",
      "p-value = 0.327\n",
      "p-значение больше, чем заданный уровень значимости 0.05. Распределение является нормальным\n",
      "Для Data Engineer: \n",
      "p-value = 0.010\n",
      "p-значение меньше, чем заданный уровень значимости 0.05. Распределение отлично от нормального\n"
     ]
    }
   ],
   "source": [
    "# Сформируем выборку по зарплатам Data Engineer в 2022 году:\n",
    "# Из общей таблицы отфильтровываем данные только по Data Engineer:\n",
    "salaries_DE = ds_salaries.loc[ds_salaries['job'] == 2]\n",
    "# Из получившейся таблицы берём зарплаты по 2022 г.:\n",
    "salaries_DE22 = salaries_DE.loc[salaries_DE['work_year'] == 2022, 'salary_in_usd']\n",
    "# Аналогичные данные по Data Scientist у нас сохранены в переменной salary_22.\n",
    "\n",
    "# Над обеими выборками проведём тест Шапиро-Уилка:\n",
    "print(\"Для Data Scientist: \")\n",
    "result = stats.shapiro(salary_22)\n",
    "decision_normality(result[1])\n",
    "\n",
    "print(\"Для Data Engineer: \")\n",
    "result = stats.shapiro(salaries_DE22)\n",
    "decision_normality(result[1])"
   ]
  },
  {
   "cell_type": "markdown",
   "metadata": {},
   "source": [
    "В одной из выборок распределение данных не подчиняется нормальному закону, поэтому мы не имеем права применить параметрический тест."
   ]
  },
  {
   "cell_type": "markdown",
   "metadata": {},
   "source": [
    "##### Выбор статистического теста."
   ]
  },
  {
   "cell_type": "markdown",
   "metadata": {},
   "source": [
    "Тип данных - количественный.\n",
    "\n",
    "Количество групп для анализа - 2.\n",
    "\n",
    "Зависимость данных - нет.\n",
    "\n",
    "Нормальность распределения данных - нет.\n",
    "\n",
    "**Выбираем U-критерий Манна-Уитни**"
   ]
  },
  {
   "cell_type": "code",
   "execution_count": 81,
   "metadata": {},
   "outputs": [
    {
     "name": "stdout",
     "output_type": "stream",
     "text": [
      "p-value = 0.155\n",
      "p-значение больше, чем заданный уровень значимости 0.05. У нас нет оснований отвергнуть нулевую гипотезу.\n"
     ]
    }
   ],
   "source": [
    "# Проводим тест:\n",
    "_, p = stats.mannwhitneyu(salary_22, salaries_DE22)\n",
    "# Обрабатываем результат\n",
    "decision_hypothesis(p)"
   ]
  },
  {
   "cell_type": "markdown",
   "metadata": {},
   "source": [
    "##### Вывод."
   ]
  },
  {
   "cell_type": "markdown",
   "metadata": {},
   "source": [
    "$p > \\alpha$. Принимаем нулевую гипотезу: у нас нет оснований считать, что зарплаты дата-сайентистов и инженеров данных в 2022 г. различались. Наш предварительный прогноз, основанный на графиках, не подтвердился."
   ]
  },
  {
   "cell_type": "markdown",
   "metadata": {},
   "source": [
    "### Как соотносятся зарплаты специалистов Data Scientist в компаниях различных размеров?"
   ]
  },
  {
   "cell_type": "markdown",
   "metadata": {},
   "source": [
    "Опять переформулируем вопрос: выясним, различаются ли зарплаты дата-сайентистов в компаниях различных размеров."
   ]
  },
  {
   "cell_type": "markdown",
   "metadata": {},
   "source": [
    "#### Построение гипотез."
   ]
  },
  {
   "cell_type": "markdown",
   "metadata": {},
   "source": [
    "$H_0: \\mu_{S} = \\mu_{M} = \\mu_{L}$ (зарплаты в компаниях разных размеров равны).\n",
    "\n",
    "$H_1: \\mu_{S} \\not= \\mu_{M} \\not= \\mu_{L}$ (зарплаты в компаниях разных размеров не равны)."
   ]
  },
  {
   "cell_type": "markdown",
   "metadata": {},
   "source": [
    "#### Сбор данных для проверки гипотезы."
   ]
  },
  {
   "cell_type": "code",
   "execution_count": 82,
   "metadata": {},
   "outputs": [
    {
     "name": "stdout",
     "output_type": "stream",
     "text": [
      "Для компаний 1 размера: \n",
      "p-value = 0.189\n",
      "p-значение больше, чем заданный уровень значимости 0.05. Распределение является нормальным\n",
      "Для компаний 2 размера: \n",
      "p-value = 0.639\n",
      "p-значение больше, чем заданный уровень значимости 0.05. Распределение является нормальным\n",
      "Для компаний 3 размера: \n",
      "p-value = 0.000\n",
      "p-значение меньше, чем заданный уровень значимости 0.05. Распределение отлично от нормального\n"
     ]
    }
   ],
   "source": [
    "# Отсортируем данные по размерам компаний:\n",
    "salaries_1 = ds_salaries.loc[ds_salaries['Company_Size'] == 1]\n",
    "salaries_2 = ds_salaries.loc[ds_salaries['Company_Size'] == 2]\n",
    "salaries_3 = ds_salaries.loc[ds_salaries['Company_Size'] == 3]\n",
    "\n",
    "# Теперь в каждой из полученных выборок выберем зарплаты дата-сайентистов\n",
    "salaries_1_DS = salaries_1.loc[salaries_1['job'] == 1, 'salary_in_usd']\n",
    "salaries_2_DS = salaries_2.loc[salaries_2['job'] == 1, 'salary_in_usd']\n",
    "salaries_3_DS = salaries_3.loc[salaries_3['job'] == 1, 'salary_in_usd']\n",
    "\n",
    "# Применим тест Шапиро-Уилка ко всем трём выборкам:\n",
    "print(\"Для компаний 1 размера: \")\n",
    "result = stats.shapiro(salaries_1_DS)\n",
    "decision_normality(result[1])\n",
    "\n",
    "print(\"Для компаний 2 размера: \")\n",
    "result = stats.shapiro(salaries_2_DS)\n",
    "decision_normality(result[1])\n",
    "\n",
    "print(\"Для компаний 3 размера: \")\n",
    "result = stats.shapiro(salaries_3_DS)\n",
    "decision_normality(result[1])"
   ]
  },
  {
   "cell_type": "markdown",
   "metadata": {},
   "source": [
    "В одной из выборок распределение данных не является нормальным. Мы не можем применить параметрический тест.\n",
    "\n",
    "#### Выбор статистического теста."
   ]
  },
  {
   "cell_type": "markdown",
   "metadata": {},
   "source": [
    "Тип данных - количественный.\n",
    "\n",
    "Количество групп для анализа - более 2.\n",
    "\n",
    "Зависимость данных - нет.\n",
    "\n",
    "Нормальность распределения данных - нет.\n",
    "\n",
    "**Выбираем тест Краскела-Уоллиса**"
   ]
  },
  {
   "cell_type": "code",
   "execution_count": 83,
   "metadata": {},
   "outputs": [
    {
     "name": "stdout",
     "output_type": "stream",
     "text": [
      "p-value = 0.000\n",
      "p-значение меньше, чем заданный уровень значимости 0.05. Отвергаем нулевую гипотезу в пользу альтернативной.\n"
     ]
    }
   ],
   "source": [
    "# проводим тест\n",
    "_, p = stats.kruskal(salaries_1_DS, salaries_2_DS, salaries_3_DS)\n",
    "# Обрабатываем результат\n",
    "decision_hypothesis(p)"
   ]
  },
  {
   "cell_type": "markdown",
   "metadata": {},
   "source": [
    "#### Вывод."
   ]
  },
  {
   "cell_type": "markdown",
   "metadata": {},
   "source": [
    "Альтернативная гипотеза подтвердилась. Зарплаты дата-сайентистов в компаниях разных размеров различаются. Это согласуется с нашим предварительным выводом, где мы выяснили, что зарплата дата-сайентистов в маленьких компаниях существенно ниже, чем в остальных. А вот в средних и больших разница в зарплате не так высока. Более того, медианная зарплата в средних даже выше, чем в больших. Это натолкнуло нас на мысль, что в больших компаниях есть аномально высокие зарплаты (выбросы), что подтвердилось тестом Шапиро-Уилка."
   ]
  },
  {
   "cell_type": "markdown",
   "metadata": {},
   "source": [
    "### Есть ли связь между наличием должностей Data Scientist и Data Engineer и размером компании?"
   ]
  },
  {
   "cell_type": "markdown",
   "metadata": {},
   "source": [
    "#### Построение гипотез."
   ]
  },
  {
   "cell_type": "markdown",
   "metadata": {},
   "source": [
    "$H_0$: Связь отсутствует.\n",
    "\n",
    "$H_1$: Связь присутствует."
   ]
  },
  {
   "cell_type": "markdown",
   "metadata": {},
   "source": [
    "#### Сбор данных для проверки гипотезы."
   ]
  },
  {
   "cell_type": "markdown",
   "metadata": {},
   "source": [
    "Для проверки данной гипотезы введём в нашу таблицу новый признак: наличие-отсутствие должностей Data Scientist и Data Engineer. Там, где данные должности присутствуют, признак будет принмать значение \"1\", где отсутствуют - значение \"0\"."
   ]
  },
  {
   "cell_type": "code",
   "execution_count": 84,
   "metadata": {},
   "outputs": [
    {
     "data": {
      "text/html": [
       "<div>\n",
       "<style scoped>\n",
       "    .dataframe tbody tr th:only-of-type {\n",
       "        vertical-align: middle;\n",
       "    }\n",
       "\n",
       "    .dataframe tbody tr th {\n",
       "        vertical-align: top;\n",
       "    }\n",
       "\n",
       "    .dataframe thead th {\n",
       "        text-align: right;\n",
       "    }\n",
       "</style>\n",
       "<table border=\"1\" class=\"dataframe\">\n",
       "  <thead>\n",
       "    <tr style=\"text-align: right;\">\n",
       "      <th></th>\n",
       "      <th>work_year</th>\n",
       "      <th>salary_in_usd</th>\n",
       "      <th>remote_ratio</th>\n",
       "      <th>experience_lvl</th>\n",
       "      <th>Company_Size</th>\n",
       "      <th>is_FT</th>\n",
       "      <th>job</th>\n",
       "      <th>from_US</th>\n",
       "      <th>DS/DE</th>\n",
       "    </tr>\n",
       "  </thead>\n",
       "  <tbody>\n",
       "    <tr>\n",
       "      <th>0</th>\n",
       "      <td>2020</td>\n",
       "      <td>79833</td>\n",
       "      <td>0</td>\n",
       "      <td>2</td>\n",
       "      <td>3</td>\n",
       "      <td>1</td>\n",
       "      <td>1</td>\n",
       "      <td>0</td>\n",
       "      <td>1</td>\n",
       "    </tr>\n",
       "    <tr>\n",
       "      <th>1</th>\n",
       "      <td>2020</td>\n",
       "      <td>260000</td>\n",
       "      <td>0</td>\n",
       "      <td>3</td>\n",
       "      <td>1</td>\n",
       "      <td>1</td>\n",
       "      <td>0</td>\n",
       "      <td>0</td>\n",
       "      <td>0</td>\n",
       "    </tr>\n",
       "    <tr>\n",
       "      <th>2</th>\n",
       "      <td>2020</td>\n",
       "      <td>109024</td>\n",
       "      <td>50</td>\n",
       "      <td>3</td>\n",
       "      <td>2</td>\n",
       "      <td>1</td>\n",
       "      <td>0</td>\n",
       "      <td>0</td>\n",
       "      <td>0</td>\n",
       "    </tr>\n",
       "    <tr>\n",
       "      <th>3</th>\n",
       "      <td>2020</td>\n",
       "      <td>20000</td>\n",
       "      <td>0</td>\n",
       "      <td>2</td>\n",
       "      <td>1</td>\n",
       "      <td>1</td>\n",
       "      <td>0</td>\n",
       "      <td>0</td>\n",
       "      <td>0</td>\n",
       "    </tr>\n",
       "    <tr>\n",
       "      <th>4</th>\n",
       "      <td>2020</td>\n",
       "      <td>150000</td>\n",
       "      <td>50</td>\n",
       "      <td>3</td>\n",
       "      <td>3</td>\n",
       "      <td>1</td>\n",
       "      <td>0</td>\n",
       "      <td>1</td>\n",
       "      <td>0</td>\n",
       "    </tr>\n",
       "    <tr>\n",
       "      <th>...</th>\n",
       "      <td>...</td>\n",
       "      <td>...</td>\n",
       "      <td>...</td>\n",
       "      <td>...</td>\n",
       "      <td>...</td>\n",
       "      <td>...</td>\n",
       "      <td>...</td>\n",
       "      <td>...</td>\n",
       "      <td>...</td>\n",
       "    </tr>\n",
       "    <tr>\n",
       "      <th>602</th>\n",
       "      <td>2022</td>\n",
       "      <td>154000</td>\n",
       "      <td>100</td>\n",
       "      <td>3</td>\n",
       "      <td>2</td>\n",
       "      <td>1</td>\n",
       "      <td>2</td>\n",
       "      <td>1</td>\n",
       "      <td>1</td>\n",
       "    </tr>\n",
       "    <tr>\n",
       "      <th>603</th>\n",
       "      <td>2022</td>\n",
       "      <td>126000</td>\n",
       "      <td>100</td>\n",
       "      <td>3</td>\n",
       "      <td>2</td>\n",
       "      <td>1</td>\n",
       "      <td>2</td>\n",
       "      <td>1</td>\n",
       "      <td>1</td>\n",
       "    </tr>\n",
       "    <tr>\n",
       "      <th>604</th>\n",
       "      <td>2022</td>\n",
       "      <td>129000</td>\n",
       "      <td>0</td>\n",
       "      <td>3</td>\n",
       "      <td>2</td>\n",
       "      <td>1</td>\n",
       "      <td>0</td>\n",
       "      <td>1</td>\n",
       "      <td>0</td>\n",
       "    </tr>\n",
       "    <tr>\n",
       "      <th>605</th>\n",
       "      <td>2022</td>\n",
       "      <td>150000</td>\n",
       "      <td>100</td>\n",
       "      <td>3</td>\n",
       "      <td>2</td>\n",
       "      <td>1</td>\n",
       "      <td>0</td>\n",
       "      <td>1</td>\n",
       "      <td>0</td>\n",
       "    </tr>\n",
       "    <tr>\n",
       "      <th>606</th>\n",
       "      <td>2022</td>\n",
       "      <td>200000</td>\n",
       "      <td>100</td>\n",
       "      <td>2</td>\n",
       "      <td>3</td>\n",
       "      <td>1</td>\n",
       "      <td>0</td>\n",
       "      <td>0</td>\n",
       "      <td>0</td>\n",
       "    </tr>\n",
       "  </tbody>\n",
       "</table>\n",
       "<p>607 rows × 9 columns</p>\n",
       "</div>"
      ],
      "text/plain": [
       "     work_year  salary_in_usd  remote_ratio  experience_lvl  Company_Size  \\\n",
       "0         2020          79833             0               2             3   \n",
       "1         2020         260000             0               3             1   \n",
       "2         2020         109024            50               3             2   \n",
       "3         2020          20000             0               2             1   \n",
       "4         2020         150000            50               3             3   \n",
       "..         ...            ...           ...             ...           ...   \n",
       "602       2022         154000           100               3             2   \n",
       "603       2022         126000           100               3             2   \n",
       "604       2022         129000             0               3             2   \n",
       "605       2022         150000           100               3             2   \n",
       "606       2022         200000           100               2             3   \n",
       "\n",
       "     is_FT  job  from_US  DS/DE  \n",
       "0        1    1        0      1  \n",
       "1        1    0        0      0  \n",
       "2        1    0        0      0  \n",
       "3        1    0        0      0  \n",
       "4        1    0        1      0  \n",
       "..     ...  ...      ...    ...  \n",
       "602      1    2        1      1  \n",
       "603      1    2        1      1  \n",
       "604      1    0        1      0  \n",
       "605      1    0        1      0  \n",
       "606      1    0        0      0  \n",
       "\n",
       "[607 rows x 9 columns]"
      ]
     },
     "execution_count": 84,
     "metadata": {},
     "output_type": "execute_result"
    }
   ],
   "source": [
    "# Введём новый признак \"DS/DE\":\n",
    "ds_salaries['DS/DE'] = ds_salaries['job'].apply(lambda x: 0 if x == 0 else 1)\n",
    "ds_salaries"
   ]
  },
  {
   "cell_type": "markdown",
   "metadata": {},
   "source": [
    "Мы получили новый категориальный признак."
   ]
  },
  {
   "cell_type": "markdown",
   "metadata": {},
   "source": [
    "#### Выбор статистического теста."
   ]
  },
  {
   "cell_type": "markdown",
   "metadata": {},
   "source": [
    "Тип данных - категориальный.\n",
    "\n",
    "Зависимость данных - нет.\n",
    "\n",
    "**Выбираем критерий хи-квадрат**"
   ]
  },
  {
   "cell_type": "code",
   "execution_count": 85,
   "metadata": {},
   "outputs": [
    {
     "name": "stdout",
     "output_type": "stream",
     "text": [
      "p-value = 0.004\n",
      "p-значение меньше, чем заданный уровень значимости 0.05. Отвергаем нулевую гипотезу в пользу альтернативной.\n"
     ]
    }
   ],
   "source": [
    "# вычисляем таблицу сопряжённости\n",
    "table = pd.crosstab(ds_salaries['DS/DE'], ds_salaries['Company_Size'])\n",
    "\n",
    "# проводим тест\n",
    "_, p, _, _ = stats.chi2_contingency(table)\n",
    "\n",
    "# Обрабатываем результат\n",
    "decision_hypothesis(p)"
   ]
  },
  {
   "cell_type": "markdown",
   "metadata": {},
   "source": [
    "#### Вывод."
   ]
  },
  {
   "cell_type": "markdown",
   "metadata": {},
   "source": [
    "Альтернативная гипотеза подтвердилась. Связь между наличием должностей Data Scientist и Data Engineer и размером компании действительно существует. Таким образом, наше первоначальное предположение, основанное на визуализации, не подтвердилось."
   ]
  },
  {
   "cell_type": "markdown",
   "metadata": {},
   "source": [
    "### Какие факторы влияют на зарплату специалиста Data Scientist?"
   ]
  },
  {
   "cell_type": "markdown",
   "metadata": {},
   "source": [
    "Проверим методом статистического анализа две наши гипотезы, выдвинутые на этапе визкализации данных."
   ]
  },
  {
   "cell_type": "markdown",
   "metadata": {},
   "source": [
    "#### Зарплата дата-сайентиста сильно зависит от места проживания."
   ]
  },
  {
   "cell_type": "markdown",
   "metadata": {},
   "source": [
    "##### Построение гипотез."
   ]
  },
  {
   "cell_type": "markdown",
   "metadata": {},
   "source": [
    "$H_0$: Связь отсутствует.\n",
    "\n",
    "$H_1$: Связь присутствует."
   ]
  },
  {
   "cell_type": "markdown",
   "metadata": {},
   "source": [
    "##### Сбор данных для проверки гипотезы."
   ]
  },
  {
   "cell_type": "markdown",
   "metadata": {},
   "source": [
    "Для проведения исследования категоризуем признак salary_in_usd. Введём новый признак, который будет указывать на уровень зарплаты. За шаг возьмём величину в 30 тыс. дол."
   ]
  },
  {
   "cell_type": "code",
   "execution_count": 86,
   "metadata": {},
   "outputs": [
    {
     "data": {
      "text/html": [
       "<div>\n",
       "<style scoped>\n",
       "    .dataframe tbody tr th:only-of-type {\n",
       "        vertical-align: middle;\n",
       "    }\n",
       "\n",
       "    .dataframe tbody tr th {\n",
       "        vertical-align: top;\n",
       "    }\n",
       "\n",
       "    .dataframe thead th {\n",
       "        text-align: right;\n",
       "    }\n",
       "</style>\n",
       "<table border=\"1\" class=\"dataframe\">\n",
       "  <thead>\n",
       "    <tr style=\"text-align: right;\">\n",
       "      <th></th>\n",
       "      <th>work_year</th>\n",
       "      <th>salary_in_usd</th>\n",
       "      <th>remote_ratio</th>\n",
       "      <th>experience_lvl</th>\n",
       "      <th>Company_Size</th>\n",
       "      <th>is_FT</th>\n",
       "      <th>job</th>\n",
       "      <th>from_US</th>\n",
       "      <th>DS/DE</th>\n",
       "      <th>Salary_lvl</th>\n",
       "    </tr>\n",
       "  </thead>\n",
       "  <tbody>\n",
       "    <tr>\n",
       "      <th>0</th>\n",
       "      <td>2020</td>\n",
       "      <td>79833</td>\n",
       "      <td>0</td>\n",
       "      <td>2</td>\n",
       "      <td>3</td>\n",
       "      <td>1</td>\n",
       "      <td>1</td>\n",
       "      <td>0</td>\n",
       "      <td>1</td>\n",
       "      <td>2</td>\n",
       "    </tr>\n",
       "    <tr>\n",
       "      <th>1</th>\n",
       "      <td>2020</td>\n",
       "      <td>260000</td>\n",
       "      <td>0</td>\n",
       "      <td>3</td>\n",
       "      <td>1</td>\n",
       "      <td>1</td>\n",
       "      <td>0</td>\n",
       "      <td>0</td>\n",
       "      <td>0</td>\n",
       "      <td>8</td>\n",
       "    </tr>\n",
       "    <tr>\n",
       "      <th>2</th>\n",
       "      <td>2020</td>\n",
       "      <td>109024</td>\n",
       "      <td>50</td>\n",
       "      <td>3</td>\n",
       "      <td>2</td>\n",
       "      <td>1</td>\n",
       "      <td>0</td>\n",
       "      <td>0</td>\n",
       "      <td>0</td>\n",
       "      <td>3</td>\n",
       "    </tr>\n",
       "    <tr>\n",
       "      <th>3</th>\n",
       "      <td>2020</td>\n",
       "      <td>20000</td>\n",
       "      <td>0</td>\n",
       "      <td>2</td>\n",
       "      <td>1</td>\n",
       "      <td>1</td>\n",
       "      <td>0</td>\n",
       "      <td>0</td>\n",
       "      <td>0</td>\n",
       "      <td>0</td>\n",
       "    </tr>\n",
       "    <tr>\n",
       "      <th>4</th>\n",
       "      <td>2020</td>\n",
       "      <td>150000</td>\n",
       "      <td>50</td>\n",
       "      <td>3</td>\n",
       "      <td>3</td>\n",
       "      <td>1</td>\n",
       "      <td>0</td>\n",
       "      <td>1</td>\n",
       "      <td>0</td>\n",
       "      <td>5</td>\n",
       "    </tr>\n",
       "    <tr>\n",
       "      <th>...</th>\n",
       "      <td>...</td>\n",
       "      <td>...</td>\n",
       "      <td>...</td>\n",
       "      <td>...</td>\n",
       "      <td>...</td>\n",
       "      <td>...</td>\n",
       "      <td>...</td>\n",
       "      <td>...</td>\n",
       "      <td>...</td>\n",
       "      <td>...</td>\n",
       "    </tr>\n",
       "    <tr>\n",
       "      <th>602</th>\n",
       "      <td>2022</td>\n",
       "      <td>154000</td>\n",
       "      <td>100</td>\n",
       "      <td>3</td>\n",
       "      <td>2</td>\n",
       "      <td>1</td>\n",
       "      <td>2</td>\n",
       "      <td>1</td>\n",
       "      <td>1</td>\n",
       "      <td>5</td>\n",
       "    </tr>\n",
       "    <tr>\n",
       "      <th>603</th>\n",
       "      <td>2022</td>\n",
       "      <td>126000</td>\n",
       "      <td>100</td>\n",
       "      <td>3</td>\n",
       "      <td>2</td>\n",
       "      <td>1</td>\n",
       "      <td>2</td>\n",
       "      <td>1</td>\n",
       "      <td>1</td>\n",
       "      <td>4</td>\n",
       "    </tr>\n",
       "    <tr>\n",
       "      <th>604</th>\n",
       "      <td>2022</td>\n",
       "      <td>129000</td>\n",
       "      <td>0</td>\n",
       "      <td>3</td>\n",
       "      <td>2</td>\n",
       "      <td>1</td>\n",
       "      <td>0</td>\n",
       "      <td>1</td>\n",
       "      <td>0</td>\n",
       "      <td>4</td>\n",
       "    </tr>\n",
       "    <tr>\n",
       "      <th>605</th>\n",
       "      <td>2022</td>\n",
       "      <td>150000</td>\n",
       "      <td>100</td>\n",
       "      <td>3</td>\n",
       "      <td>2</td>\n",
       "      <td>1</td>\n",
       "      <td>0</td>\n",
       "      <td>1</td>\n",
       "      <td>0</td>\n",
       "      <td>5</td>\n",
       "    </tr>\n",
       "    <tr>\n",
       "      <th>606</th>\n",
       "      <td>2022</td>\n",
       "      <td>200000</td>\n",
       "      <td>100</td>\n",
       "      <td>2</td>\n",
       "      <td>3</td>\n",
       "      <td>1</td>\n",
       "      <td>0</td>\n",
       "      <td>0</td>\n",
       "      <td>0</td>\n",
       "      <td>6</td>\n",
       "    </tr>\n",
       "  </tbody>\n",
       "</table>\n",
       "<p>607 rows × 10 columns</p>\n",
       "</div>"
      ],
      "text/plain": [
       "     work_year  salary_in_usd  remote_ratio  experience_lvl  Company_Size  \\\n",
       "0         2020          79833             0               2             3   \n",
       "1         2020         260000             0               3             1   \n",
       "2         2020         109024            50               3             2   \n",
       "3         2020          20000             0               2             1   \n",
       "4         2020         150000            50               3             3   \n",
       "..         ...            ...           ...             ...           ...   \n",
       "602       2022         154000           100               3             2   \n",
       "603       2022         126000           100               3             2   \n",
       "604       2022         129000             0               3             2   \n",
       "605       2022         150000           100               3             2   \n",
       "606       2022         200000           100               2             3   \n",
       "\n",
       "     is_FT  job  from_US  DS/DE  Salary_lvl  \n",
       "0        1    1        0      1           2  \n",
       "1        1    0        0      0           8  \n",
       "2        1    0        0      0           3  \n",
       "3        1    0        0      0           0  \n",
       "4        1    0        1      0           5  \n",
       "..     ...  ...      ...    ...         ...  \n",
       "602      1    2        1      1           5  \n",
       "603      1    2        1      1           4  \n",
       "604      1    0        1      0           4  \n",
       "605      1    0        1      0           5  \n",
       "606      1    0        0      0           6  \n",
       "\n",
       "[607 rows x 10 columns]"
      ]
     },
     "execution_count": 86,
     "metadata": {},
     "output_type": "execute_result"
    }
   ],
   "source": [
    "# Вводим новый признак, показывающий уровень заработной платы.\n",
    "ds_salaries['Salary_lvl'] = ds_salaries['salary_in_usd'].apply(lambda x: 0 if x < 30000 else\n",
    "                                                               1 if x < 60000 else\n",
    "                                                               2 if x < 90000 else\n",
    "                                                               3 if x < 120000 else\n",
    "                                                               4 if x < 150000 else\n",
    "                                                               5 if x < 180000 else\n",
    "                                                               6 if x < 210000 else\n",
    "                                                               7 if x < 240000 else\n",
    "                                                               8 if x < 270000 else 9)\n",
    "ds_salaries"
   ]
  },
  {
   "cell_type": "markdown",
   "metadata": {},
   "source": [
    "Итак, мы получили 10 уровней зарплаты в зависимости от её величины. Теперь из всего набора данных выделим только дата-сайентистов."
   ]
  },
  {
   "cell_type": "code",
   "execution_count": 87,
   "metadata": {},
   "outputs": [
    {
     "data": {
      "text/html": [
       "<div>\n",
       "<style scoped>\n",
       "    .dataframe tbody tr th:only-of-type {\n",
       "        vertical-align: middle;\n",
       "    }\n",
       "\n",
       "    .dataframe tbody tr th {\n",
       "        vertical-align: top;\n",
       "    }\n",
       "\n",
       "    .dataframe thead th {\n",
       "        text-align: right;\n",
       "    }\n",
       "</style>\n",
       "<table border=\"1\" class=\"dataframe\">\n",
       "  <thead>\n",
       "    <tr style=\"text-align: right;\">\n",
       "      <th></th>\n",
       "      <th>work_year</th>\n",
       "      <th>salary_in_usd</th>\n",
       "      <th>remote_ratio</th>\n",
       "      <th>experience_lvl</th>\n",
       "      <th>Company_Size</th>\n",
       "      <th>is_FT</th>\n",
       "      <th>job</th>\n",
       "      <th>from_US</th>\n",
       "      <th>DS/DE</th>\n",
       "      <th>Salary_lvl</th>\n",
       "    </tr>\n",
       "  </thead>\n",
       "  <tbody>\n",
       "    <tr>\n",
       "      <th>0</th>\n",
       "      <td>2020</td>\n",
       "      <td>79833</td>\n",
       "      <td>0</td>\n",
       "      <td>2</td>\n",
       "      <td>3</td>\n",
       "      <td>1</td>\n",
       "      <td>1</td>\n",
       "      <td>0</td>\n",
       "      <td>1</td>\n",
       "      <td>2</td>\n",
       "    </tr>\n",
       "    <tr>\n",
       "      <th>7</th>\n",
       "      <td>2020</td>\n",
       "      <td>35735</td>\n",
       "      <td>50</td>\n",
       "      <td>2</td>\n",
       "      <td>3</td>\n",
       "      <td>1</td>\n",
       "      <td>1</td>\n",
       "      <td>0</td>\n",
       "      <td>1</td>\n",
       "      <td>1</td>\n",
       "    </tr>\n",
       "    <tr>\n",
       "      <th>10</th>\n",
       "      <td>2020</td>\n",
       "      <td>51321</td>\n",
       "      <td>0</td>\n",
       "      <td>1</td>\n",
       "      <td>1</td>\n",
       "      <td>1</td>\n",
       "      <td>1</td>\n",
       "      <td>0</td>\n",
       "      <td>1</td>\n",
       "      <td>1</td>\n",
       "    </tr>\n",
       "    <tr>\n",
       "      <th>11</th>\n",
       "      <td>2020</td>\n",
       "      <td>40481</td>\n",
       "      <td>0</td>\n",
       "      <td>2</td>\n",
       "      <td>3</td>\n",
       "      <td>1</td>\n",
       "      <td>1</td>\n",
       "      <td>0</td>\n",
       "      <td>1</td>\n",
       "      <td>1</td>\n",
       "    </tr>\n",
       "    <tr>\n",
       "      <th>12</th>\n",
       "      <td>2020</td>\n",
       "      <td>39916</td>\n",
       "      <td>0</td>\n",
       "      <td>1</td>\n",
       "      <td>2</td>\n",
       "      <td>1</td>\n",
       "      <td>1</td>\n",
       "      <td>0</td>\n",
       "      <td>1</td>\n",
       "      <td>1</td>\n",
       "    </tr>\n",
       "    <tr>\n",
       "      <th>...</th>\n",
       "      <td>...</td>\n",
       "      <td>...</td>\n",
       "      <td>...</td>\n",
       "      <td>...</td>\n",
       "      <td>...</td>\n",
       "      <td>...</td>\n",
       "      <td>...</td>\n",
       "      <td>...</td>\n",
       "      <td>...</td>\n",
       "      <td>...</td>\n",
       "    </tr>\n",
       "    <tr>\n",
       "      <th>592</th>\n",
       "      <td>2022</td>\n",
       "      <td>230000</td>\n",
       "      <td>100</td>\n",
       "      <td>3</td>\n",
       "      <td>2</td>\n",
       "      <td>1</td>\n",
       "      <td>1</td>\n",
       "      <td>1</td>\n",
       "      <td>1</td>\n",
       "      <td>7</td>\n",
       "    </tr>\n",
       "    <tr>\n",
       "      <th>593</th>\n",
       "      <td>2022</td>\n",
       "      <td>150000</td>\n",
       "      <td>100</td>\n",
       "      <td>3</td>\n",
       "      <td>2</td>\n",
       "      <td>1</td>\n",
       "      <td>1</td>\n",
       "      <td>1</td>\n",
       "      <td>1</td>\n",
       "      <td>5</td>\n",
       "    </tr>\n",
       "    <tr>\n",
       "      <th>596</th>\n",
       "      <td>2022</td>\n",
       "      <td>210000</td>\n",
       "      <td>100</td>\n",
       "      <td>3</td>\n",
       "      <td>2</td>\n",
       "      <td>1</td>\n",
       "      <td>1</td>\n",
       "      <td>1</td>\n",
       "      <td>1</td>\n",
       "      <td>7</td>\n",
       "    </tr>\n",
       "    <tr>\n",
       "      <th>598</th>\n",
       "      <td>2022</td>\n",
       "      <td>160000</td>\n",
       "      <td>100</td>\n",
       "      <td>2</td>\n",
       "      <td>2</td>\n",
       "      <td>1</td>\n",
       "      <td>1</td>\n",
       "      <td>1</td>\n",
       "      <td>1</td>\n",
       "      <td>5</td>\n",
       "    </tr>\n",
       "    <tr>\n",
       "      <th>599</th>\n",
       "      <td>2022</td>\n",
       "      <td>130000</td>\n",
       "      <td>100</td>\n",
       "      <td>2</td>\n",
       "      <td>2</td>\n",
       "      <td>1</td>\n",
       "      <td>1</td>\n",
       "      <td>1</td>\n",
       "      <td>1</td>\n",
       "      <td>4</td>\n",
       "    </tr>\n",
       "  </tbody>\n",
       "</table>\n",
       "<p>143 rows × 10 columns</p>\n",
       "</div>"
      ],
      "text/plain": [
       "     work_year  salary_in_usd  remote_ratio  experience_lvl  Company_Size  \\\n",
       "0         2020          79833             0               2             3   \n",
       "7         2020          35735            50               2             3   \n",
       "10        2020          51321             0               1             1   \n",
       "11        2020          40481             0               2             3   \n",
       "12        2020          39916             0               1             2   \n",
       "..         ...            ...           ...             ...           ...   \n",
       "592       2022         230000           100               3             2   \n",
       "593       2022         150000           100               3             2   \n",
       "596       2022         210000           100               3             2   \n",
       "598       2022         160000           100               2             2   \n",
       "599       2022         130000           100               2             2   \n",
       "\n",
       "     is_FT  job  from_US  DS/DE  Salary_lvl  \n",
       "0        1    1        0      1           2  \n",
       "7        1    1        0      1           1  \n",
       "10       1    1        0      1           1  \n",
       "11       1    1        0      1           1  \n",
       "12       1    1        0      1           1  \n",
       "..     ...  ...      ...    ...         ...  \n",
       "592      1    1        1      1           7  \n",
       "593      1    1        1      1           5  \n",
       "596      1    1        1      1           7  \n",
       "598      1    1        1      1           5  \n",
       "599      1    1        1      1           4  \n",
       "\n",
       "[143 rows x 10 columns]"
      ]
     },
     "execution_count": 87,
     "metadata": {},
     "output_type": "execute_result"
    }
   ],
   "source": [
    "salaries_DS = ds_salaries.loc[ds_salaries['job'] == 1]\n",
    "salaries_DS"
   ]
  },
  {
   "cell_type": "markdown",
   "metadata": {},
   "source": [
    "Теперь мы можем провести необходимые статистические расчёты."
   ]
  },
  {
   "cell_type": "markdown",
   "metadata": {},
   "source": [
    "##### Выбор статистического теста."
   ]
  },
  {
   "cell_type": "markdown",
   "metadata": {},
   "source": [
    "Тип данных - категориальный.\n",
    "\n",
    "Зависимость данных - нет.\n",
    "\n",
    "**Выбираем критерий хи-квадрат**"
   ]
  },
  {
   "cell_type": "code",
   "execution_count": 88,
   "metadata": {},
   "outputs": [
    {
     "name": "stdout",
     "output_type": "stream",
     "text": [
      "p-value = 0.000\n",
      "p-значение меньше, чем заданный уровень значимости 0.05. Отвергаем нулевую гипотезу в пользу альтернативной.\n"
     ]
    }
   ],
   "source": [
    "# вычисляем таблицу сопряжённости\n",
    "table = pd.crosstab(salaries_DS['Salary_lvl'], salaries_DS['from_US'])\n",
    "\n",
    "# проводим тест\n",
    "_, p, _, _ = stats.chi2_contingency(table)\n",
    "\n",
    "# Обрабатываем результат\n",
    "decision_hypothesis(p)"
   ]
  },
  {
   "cell_type": "markdown",
   "metadata": {},
   "source": [
    "##### Вывод."
   ]
  },
  {
   "cell_type": "markdown",
   "metadata": {},
   "source": [
    "Наша гипотеза подтвердилась. Связь между уровнем заработной платы дата-сайентистов и фактом проживания в США подтвердилась. Напомню, что в ходе визуализации данных эта связь была нами интерпретировна как сильная, даже близкая к мультиколлинеарной."
   ]
  },
  {
   "cell_type": "markdown",
   "metadata": {},
   "source": [
    "#### Зарплата дата-сайентиста зависит от опыта работы."
   ]
  },
  {
   "cell_type": "markdown",
   "metadata": {},
   "source": [
    "##### Построение гипотез."
   ]
  },
  {
   "cell_type": "markdown",
   "metadata": {},
   "source": [
    "$H_0$: Связь отсутствует.\n",
    "\n",
    "$H_1$: Связь присутствует."
   ]
  },
  {
   "cell_type": "markdown",
   "metadata": {},
   "source": [
    "##### Сбор данных для проверки гипотезы."
   ]
  },
  {
   "cell_type": "markdown",
   "metadata": {},
   "source": [
    "Все необходимые данные уже готовы к анализу."
   ]
  },
  {
   "cell_type": "markdown",
   "metadata": {},
   "source": [
    "##### Выбор статистического теста."
   ]
  },
  {
   "cell_type": "markdown",
   "metadata": {},
   "source": [
    "Тип данных - категориальный.\n",
    "\n",
    "Зависимость данных - нет.\n",
    "\n",
    "**Выбираем критерий хи-квадрат**"
   ]
  },
  {
   "cell_type": "code",
   "execution_count": 89,
   "metadata": {},
   "outputs": [
    {
     "name": "stdout",
     "output_type": "stream",
     "text": [
      "p-value = 0.000\n",
      "p-значение меньше, чем заданный уровень значимости 0.05. Отвергаем нулевую гипотезу в пользу альтернативной.\n"
     ]
    }
   ],
   "source": [
    "# вычисляем таблицу сопряжённости\n",
    "table = pd.crosstab(salaries_DS['Salary_lvl'], salaries_DS['experience_lvl'])\n",
    "\n",
    "# проводим тест\n",
    "_, p, _, _ = stats.chi2_contingency(table)\n",
    "\n",
    "# Обрабатываем результат\n",
    "decision_hypothesis(p)"
   ]
  },
  {
   "cell_type": "markdown",
   "metadata": {},
   "source": [
    "##### Вывод."
   ]
  },
  {
   "cell_type": "markdown",
   "metadata": {},
   "source": [
    "Вторая наша гипотеза тоже нашла своё подтверждение. Зарплата дата-сайентиста действительно зависит от опыта работы. На этапе визуализации данных данная связь была оценена нами как средняя."
   ]
  },
  {
   "cell_type": "markdown",
   "metadata": {},
   "source": [
    "## Общие выводы по проекту."
   ]
  },
  {
   "cell_type": "markdown",
   "metadata": {},
   "source": [
    "Цель проекта достигнута: были получены ответы на все вопросы, поставленные перед нами HR-агенством.\n",
    "\n",
    "1. На зарплату специалиста Data Scientist оказывает сильное влияние факт его проживания в США: у специалистов из этой страны зарплата выше, чем у всех остальных. Также средний уровень влияния оказывает опыт работы: с увеличением опыта растёт зарплата.\n",
    "2. * а. Уровень зарплаты дата-сайентистов за представленный период действительно вырос, но не факт, что такой рост происходил именно ежегодно. Наблюдается резкий скачок в уровне зарплаты в 2022 г.\n",
    "   * б. Нет оснований полагать, что в 2022 г. зарплата дата-сайентистов была выше, чем у инженеров данных.\n",
    "   * в. Уровень заработной платы дата-сайентистов действительно разный в компаниях различного размера. Причём, в маленьких компаниях зарплата значительно ниже, чем во всех остальных.\n",
    "   * г. Действительно, факт наличия должностей Data Scientist и Data Engineer связан с размером компании. В маленьких компаниях таких должностей очень мало."
   ]
  }
 ],
 "metadata": {
  "kernelspec": {
   "display_name": "Python 3",
   "language": "python",
   "name": "python3"
  },
  "language_info": {
   "codemirror_mode": {
    "name": "ipython",
    "version": 3
   },
   "file_extension": ".py",
   "mimetype": "text/x-python",
   "name": "python",
   "nbconvert_exporter": "python",
   "pygments_lexer": "ipython3",
   "version": "3.11.1"
  },
  "orig_nbformat": 4
 },
 "nbformat": 4,
 "nbformat_minor": 2
}
